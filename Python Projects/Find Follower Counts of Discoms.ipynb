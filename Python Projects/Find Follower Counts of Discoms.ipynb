{
 "cells": [
  {
   "cell_type": "code",
   "execution_count": 1,
   "metadata": {},
   "outputs": [],
   "source": [
    "import tweepy\n",
    "import webbrowser\n",
    "import time\n",
    "import pandas as pd"
   ]
  },
  {
   "cell_type": "code",
   "execution_count": 2,
   "metadata": {},
   "outputs": [
    {
     "name": "stdout",
     "output_type": "stream",
     "text": [
      "What is your pin ?3175229\n"
     ]
    }
   ],
   "source": [
    "consumer_key = 'h1FMGukUb2opdWyp6e5h4wXsJ'\n",
    "consumer_secret = 'Bd3604rdoBGdsVdBL6fubOpyYL44L0uJNpBp5D63IOe5k4h6Rg'\n",
    "callback_uri = 'oob'\n",
    "auth = tweepy.OAuthHandler(consumer_key,consumer_secret,callback_uri)\n",
    "redirect_url = auth.get_authorization_url()\n",
    "webbrowser.open(redirect_url)\n",
    "user_pin_input = input(\"What is your pin ?\")"
   ]
  },
  {
   "cell_type": "code",
   "execution_count": 3,
   "metadata": {},
   "outputs": [
    {
     "data": {
      "text/plain": [
       "'6261954'"
      ]
     },
     "execution_count": 3,
     "metadata": {},
     "output_type": "execute_result"
    }
   ],
   "source": [
    "user_pin_input"
   ]
  },
  {
   "cell_type": "code",
   "execution_count": 3,
   "metadata": {},
   "outputs": [],
   "source": [
    "token = auth.get_access_token(user_pin_input)"
   ]
  },
  {
   "cell_type": "code",
   "execution_count": 4,
   "metadata": {},
   "outputs": [],
   "source": [
    "api = tweepy.API(auth)"
   ]
  },
  {
   "cell_type": "code",
   "execution_count": 5,
   "metadata": {},
   "outputs": [],
   "source": [
    "UPPCLLKO = ['dvvnlhq','mvvnlhq','puvvnlhq','pvvnlhq','kescohq']"
   ]
  },
  {
   "cell_type": "code",
   "execution_count": 6,
   "metadata": {},
   "outputs": [],
   "source": [
    "def extract_discom_data(area_list):\n",
    "    uppcl_data = []\n",
    "    columns_headers = ['USER OR HANDLE','NAME','FOLLOWERS','TWEETS']\n",
    "    for area in area_list:\n",
    "        try:\n",
    "            user = api.get_user(area)\n",
    "        except:\n",
    "            print(area)\n",
    "        single_area_data = {'USER OR HANDLE': user.screen_name,'NAME':user.name,'FOLLOWERS':user.followers_count,'TWEETS':user.statuses_count}\n",
    "    #     print(\"{} has followers {}\".format(discom,user.followers_count))\n",
    "        uppcl_data.append(single_area_data)\n",
    "\n",
    "    data = pd.DataFrame(uppcl_data,columns=columns_headers)\n",
    "    return data\n"
   ]
  },
  {
   "cell_type": "code",
   "execution_count": 7,
   "metadata": {},
   "outputs": [
    {
     "data": {
      "text/plain": [
       "76"
      ]
     },
     "execution_count": 7,
     "metadata": {},
     "output_type": "execute_result"
    }
   ],
   "source": [
    "district = pd.read_excel(\"./09-November-2020.xlsx\",sheet_name=\"Followers\")\n",
    "district_handle_list = list(district[\"TWITTER HANDLE\"])\n",
    "\n",
    "district_list = []\n",
    "\n",
    "for handle in district_handle_list:\n",
    "    district_list.append(handle.replace('\\n',' ').strip().lower())\n",
    "len(district_list)"
   ]
  },
  {
   "cell_type": "code",
   "execution_count": 8,
   "metadata": {},
   "outputs": [
    {
     "name": "stdout",
     "output_type": "stream",
     "text": [
      "mvvnllkotrans\n"
     ]
    },
    {
     "data": {
      "text/html": [
       "<div>\n",
       "<style scoped>\n",
       "    .dataframe tbody tr th:only-of-type {\n",
       "        vertical-align: middle;\n",
       "    }\n",
       "\n",
       "    .dataframe tbody tr th {\n",
       "        vertical-align: top;\n",
       "    }\n",
       "\n",
       "    .dataframe thead th {\n",
       "        text-align: right;\n",
       "    }\n",
       "</style>\n",
       "<table border=\"1\" class=\"dataframe\">\n",
       "  <thead>\n",
       "    <tr style=\"text-align: right;\">\n",
       "      <th></th>\n",
       "      <th>USER OR HANDLE</th>\n",
       "      <th>NAME</th>\n",
       "      <th>FOLLOWERS</th>\n",
       "      <th>TWEETS</th>\n",
       "    </tr>\n",
       "  </thead>\n",
       "  <tbody>\n",
       "    <tr>\n",
       "      <th>0</th>\n",
       "      <td>mvvnlshrawasti</td>\n",
       "      <td>MVVNL SHRAWASTI</td>\n",
       "      <td>107</td>\n",
       "      <td>64</td>\n",
       "    </tr>\n",
       "    <tr>\n",
       "      <th>1</th>\n",
       "      <td>mvvnlbalrampur</td>\n",
       "      <td>MVVNL BALRAMPUR</td>\n",
       "      <td>289</td>\n",
       "      <td>85</td>\n",
       "    </tr>\n",
       "    <tr>\n",
       "      <th>2</th>\n",
       "      <td>puvvnlbhadohi</td>\n",
       "      <td>PUVVNL Bhadohi</td>\n",
       "      <td>287</td>\n",
       "      <td>491</td>\n",
       "    </tr>\n",
       "    <tr>\n",
       "      <th>3</th>\n",
       "      <td>mvvnlsahjahapur</td>\n",
       "      <td>MVVNL SHAHJAHANPUR</td>\n",
       "      <td>480</td>\n",
       "      <td>917</td>\n",
       "    </tr>\n",
       "    <tr>\n",
       "      <th>4</th>\n",
       "      <td>pvvnlamroha</td>\n",
       "      <td>PVVNL Amroha</td>\n",
       "      <td>606</td>\n",
       "      <td>2498</td>\n",
       "    </tr>\n",
       "    <tr>\n",
       "      <th>...</th>\n",
       "      <td>...</td>\n",
       "      <td>...</td>\n",
       "      <td>...</td>\n",
       "      <td>...</td>\n",
       "    </tr>\n",
       "    <tr>\n",
       "      <th>71</th>\n",
       "      <td>puvvnlfatehpur</td>\n",
       "      <td>PUVVNL Fatehpur</td>\n",
       "      <td>1581</td>\n",
       "      <td>6076</td>\n",
       "    </tr>\n",
       "    <tr>\n",
       "      <th>72</th>\n",
       "      <td>puvvnljaunpur</td>\n",
       "      <td>PuVVNL Jaunpur</td>\n",
       "      <td>1696</td>\n",
       "      <td>3352</td>\n",
       "    </tr>\n",
       "    <tr>\n",
       "      <th>73</th>\n",
       "      <td>PUVVNLPRTAPGARH</td>\n",
       "      <td>PuVVNL Pratapgarh</td>\n",
       "      <td>1284</td>\n",
       "      <td>3026</td>\n",
       "    </tr>\n",
       "    <tr>\n",
       "      <th>74</th>\n",
       "      <td>pvvnlghaziabad</td>\n",
       "      <td>PVVNL Ghaziabad</td>\n",
       "      <td>5822</td>\n",
       "      <td>19611</td>\n",
       "    </tr>\n",
       "    <tr>\n",
       "      <th>75</th>\n",
       "      <td>dvvnlmainpuri</td>\n",
       "      <td>DVVNL MAINPURI</td>\n",
       "      <td>3270</td>\n",
       "      <td>15788</td>\n",
       "    </tr>\n",
       "  </tbody>\n",
       "</table>\n",
       "<p>76 rows × 4 columns</p>\n",
       "</div>"
      ],
      "text/plain": [
       "     USER OR HANDLE                NAME  FOLLOWERS  TWEETS\n",
       "0    mvvnlshrawasti     MVVNL SHRAWASTI        107      64\n",
       "1    mvvnlbalrampur     MVVNL BALRAMPUR        289      85\n",
       "2     puvvnlbhadohi      PUVVNL Bhadohi        287     491\n",
       "3   mvvnlsahjahapur  MVVNL SHAHJAHANPUR        480     917\n",
       "4       pvvnlamroha        PVVNL Amroha        606    2498\n",
       "..              ...                 ...        ...     ...\n",
       "71   puvvnlfatehpur     PUVVNL Fatehpur       1581    6076\n",
       "72    puvvnljaunpur      PuVVNL Jaunpur       1696    3352\n",
       "73  PUVVNLPRTAPGARH   PuVVNL Pratapgarh       1284    3026\n",
       "74   pvvnlghaziabad     PVVNL Ghaziabad       5822   19611\n",
       "75    dvvnlmainpuri      DVVNL MAINPURI       3270   15788\n",
       "\n",
       "[76 rows x 4 columns]"
      ]
     },
     "execution_count": 8,
     "metadata": {},
     "output_type": "execute_result"
    }
   ],
   "source": [
    "result = extract_discom_data(district_list)\n",
    "result"
   ]
  },
  {
   "cell_type": "code",
   "execution_count": 9,
   "metadata": {},
   "outputs": [],
   "source": [
    "result.to_excel(r\"C:\\Users\\HP\\Downloads\\Testing\\result.xlsx\")"
   ]
  },
  {
   "cell_type": "code",
   "execution_count": 38,
   "metadata": {},
   "outputs": [
    {
     "data": {
      "text/plain": [
       "['mvvnlshrawasti',\n",
       " 'mvvnlbalrampur',\n",
       " 'puvvnlbhadohi',\n",
       " 'mvvnlsahjahapur',\n",
       " 'pvvnlamroha',\n",
       " 'dvvnlhamirpur',\n",
       " 'pvvnlhapur',\n",
       " 'pvvnlsambhal',\n",
       " 'mvvnlbudaun',\n",
       " 'dvvnlkannauj',\n",
       " 'puvvnlchandauli',\n",
       " 'dvvnlfarrukhaba',\n",
       " 'mvvnlgonda',\n",
       " 'mvvnllkotrans',\n",
       " 'puvvnlsonbhadra',\n",
       " 'dvvnlauraiya',\n",
       " 'puvvnlazamgarh',\n",
       " 'dvvnlkasganj',\n",
       " 'pvvnlbijnor',\n",
       " 'mvvnllkocis',\n",
       " 'mvvnlpilibhit',\n",
       " 'puvvnlmirzapur',\n",
       " 'puvvnlbasti',\n",
       " 'pvvnlrampur',\n",
       " 'puvvnlsknagar',\n",
       " 'mvvnlambedkrngr',\n",
       " 'puvvnlkaushambi',\n",
       " 'mvvnlunnao',\n",
       " 'puvvnlsdnagar',\n",
       " 'pvvnlmoradabad',\n",
       " 'dvvnllalitpur2',\n",
       " 'puvvnldeoria',\n",
       " 'dvvnljalaun',\n",
       " 'dvvnlfirozabad',\n",
       " 'dvvnlbanda',\n",
       " 'dvvnletah',\n",
       " 'dvvnlhathras',\n",
       " 'mvvnlhardoi',\n",
       " 'pvvnlshamli',\n",
       " 'dvvnlmahoba',\n",
       " 'pvvnlsaharanpur',\n",
       " 'puvvnlballia',\n",
       " 'dvvnlagra',\n",
       " 'dvvnlaligarh',\n",
       " 'mvvnllakhimpur',\n",
       " 'puvvnlmhrjganj',\n",
       " 'pvvnlbulandshr',\n",
       " 'puvvnlkusinagar',\n",
       " 'mvvnlbareilly',\n",
       " 'puvvnlghazipur',\n",
       " 'pvvnlmeerut',\n",
       " 'mvvnlbahraich',\n",
       " 'dvvnljhansi',\n",
       " 'puvvnlgorakhpur',\n",
       " 'puvvnlprayagraj',\n",
       " 'mvvnlayodhya',\n",
       " 'mvvnlsitapur',\n",
       " 'puvvnlmau',\n",
       " 'dvvnlchitrakoot',\n",
       " 'pvvnlgbnagar',\n",
       " 'mvvnlsitapur',\n",
       " 'mvvnlamethi',\n",
       " 'dvvnlmathura1',\n",
       " 'pvvnlbaghpat',\n",
       " 'dvvnlkanpurnagr',\n",
       " 'pvvnlmuzafarngr',\n",
       " 'dvvnlkanpurdeha',\n",
       " 'mvvnlbarabanki',\n",
       " 'dvvnletawah',\n",
       " 'puvvnlvaranasi',\n",
       " 'mvvnlraebareli',\n",
       " 'puvvnlfatehpur',\n",
       " 'puvvnljaunpur',\n",
       " 'puvvnlprtapgarh',\n",
       " 'pvvnlghaziabad',\n",
       " 'dvvnlmainpuri']"
      ]
     },
     "execution_count": 38,
     "metadata": {},
     "output_type": "execute_result"
    }
   ],
   "source": [
    "district_list # List of twitter_handles of all district of UP"
   ]
  },
  {
   "cell_type": "code",
   "execution_count": null,
   "metadata": {},
   "outputs": [],
   "source": []
  }
 ],
 "metadata": {
  "kernelspec": {
   "display_name": "Python 3",
   "language": "python",
   "name": "python3"
  },
  "language_info": {
   "codemirror_mode": {
    "name": "ipython",
    "version": 3
   },
   "file_extension": ".py",
   "mimetype": "text/x-python",
   "name": "python",
   "nbconvert_exporter": "python",
   "pygments_lexer": "ipython3",
   "version": "3.8.6"
  }
 },
 "nbformat": 4,
 "nbformat_minor": 2
}
