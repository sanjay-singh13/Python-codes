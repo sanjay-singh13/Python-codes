{
 "cells": [
  {
   "cell_type": "code",
   "execution_count": 24,
   "metadata": {},
   "outputs": [],
   "source": [
    "import tweepy\n",
    "import webbrowser\n",
    "import time\n",
    "import pandas as pd"
   ]
  },
  {
   "cell_type": "code",
   "execution_count": 3,
   "metadata": {},
   "outputs": [
    {
     "name": "stdout",
     "output_type": "stream",
     "text": [
      "What is your pin ?1492460\n"
     ]
    }
   ],
   "source": [
    "consumer_key = 'h1FMGukUb2opdWyp6e5h4wXsJ'\n",
    "consumer_secret = 'Bd3604rdoBGdsVdBL6fubOpyYL44L0uJNpBp5D63IOe5k4h6Rg'\n",
    "callback_uri = 'oob'\n",
    "auth = tweepy.OAuthHandler(consumer_key,consumer_secret,callback_uri)\n",
    "redirect_url = auth.get_authorization_url()\n",
    "webbrowser.open(redirect_url)\n",
    "user_pin_input = input(\"What is your pin ?\")"
   ]
  },
  {
   "cell_type": "code",
   "execution_count": 4,
   "metadata": {},
   "outputs": [
    {
     "data": {
      "text/plain": [
       "'1492460'"
      ]
     },
     "execution_count": 4,
     "metadata": {},
     "output_type": "execute_result"
    }
   ],
   "source": [
    "user_pin_input"
   ]
  },
  {
   "cell_type": "code",
   "execution_count": 5,
   "metadata": {},
   "outputs": [
    {
     "data": {
      "text/plain": [
       "('359263757-80cFdRPELOWd659u6G6wrCnDnioX3e9fFYJUWbcH',\n",
       " 'elyoFB2sAi8c3plOV19CeXgVS5yXcag0DYJtrcupceUZq')"
      ]
     },
     "execution_count": 5,
     "metadata": {},
     "output_type": "execute_result"
    }
   ],
   "source": [
    "auth.get_access_token(user_pin_input)"
   ]
  },
  {
   "cell_type": "code",
   "execution_count": 6,
   "metadata": {},
   "outputs": [],
   "source": [
    "api = tweepy.API(auth)"
   ]
  },
  {
   "cell_type": "code",
   "execution_count": 8,
   "metadata": {},
   "outputs": [],
   "source": [
    "me = api.me()"
   ]
  },
  {
   "cell_type": "code",
   "execution_count": 9,
   "metadata": {},
   "outputs": [
    {
     "name": "stdout",
     "output_type": "stream",
     "text": [
      "Sanjay singh\n"
     ]
    }
   ],
   "source": [
    "print(me.name)"
   ]
  },
  {
   "cell_type": "code",
   "execution_count": 10,
   "metadata": {},
   "outputs": [],
   "source": [
    "my_timeline = api.home_timeline()"
   ]
  },
  {
   "cell_type": "code",
   "execution_count": 34,
   "metadata": {},
   "outputs": [
    {
     "name": "stdout",
     "output_type": "stream",
     "text": [
      "the_hindu\n",
      "the_hindu\n",
      "ptshrikant\n",
      "ptshrikant\n",
      "UPPCLLKO\n",
      "UPPCLLKO\n",
      "ptshrikant\n",
      "UPPCLLKO\n",
      "UPPCLLKO\n",
      "Sanjaygrt07\n",
      "UPPCLLKO\n",
      "UPPCLLKO\n",
      "UPPCLLKO\n",
      "the_hindu\n",
      "the_hindu\n",
      "ThePSF\n",
      "the_hindu\n",
      "the_hindu\n",
      "the_hindu\n",
      "the_hindu\n"
     ]
    }
   ],
   "source": [
    "columns = set()\n",
    "allowed_types = [int, str]\n",
    "tweets_data = []\n",
    "for status in my_timeline:\n",
    "    print(status.user.screen_name)\n",
    "    status_dict = dict(vars(status))\n",
    "    keys = status_dict.keys()\n",
    "    single_tweet_data = {\"user\": status.user.screen_name, \"author\": status.author.screen_name}\n",
    "    for k in keys:\n",
    "        try:\n",
    "            v_type = type(status_dict[k])\n",
    "        except:\n",
    "            v_type = None\n",
    "        if v_type != None:  \n",
    "            if v_type in allowed_types:\n",
    "                single_tweet_data[k] = status_dict[k]\n",
    "                columns.add(k)\n",
    "    tweets_data.append(single_tweet_data)\n",
    "\n",
    "header_cols = list(columns)\n",
    "header_cols.append(\"user\")\n",
    "header_cols.append(\"author\")"
   ]
  },
  {
   "cell_type": "code",
   "execution_count": 35,
   "metadata": {},
   "outputs": [
    {
     "data": {
      "text/plain": [
       "['lang',\n",
       " 'text',\n",
       " 'id',\n",
       " 'retweet_count',\n",
       " 'source',\n",
       " 'favorite_count',\n",
       " 'source_url',\n",
       " 'id_str',\n",
       " 'user',\n",
       " 'author']"
      ]
     },
     "execution_count": 35,
     "metadata": {},
     "output_type": "execute_result"
    }
   ],
   "source": [
    "header_cols"
   ]
  },
  {
   "cell_type": "code",
   "execution_count": 36,
   "metadata": {},
   "outputs": [],
   "source": [
    "df = pd.DataFrame(tweets_data, columns=header_cols)"
   ]
  },
  {
   "cell_type": "code",
   "execution_count": 37,
   "metadata": {},
   "outputs": [
    {
     "data": {
      "text/html": [
       "<div>\n",
       "<style scoped>\n",
       "    .dataframe tbody tr th:only-of-type {\n",
       "        vertical-align: middle;\n",
       "    }\n",
       "\n",
       "    .dataframe tbody tr th {\n",
       "        vertical-align: top;\n",
       "    }\n",
       "\n",
       "    .dataframe thead th {\n",
       "        text-align: right;\n",
       "    }\n",
       "</style>\n",
       "<table border=\"1\" class=\"dataframe\">\n",
       "  <thead>\n",
       "    <tr style=\"text-align: right;\">\n",
       "      <th></th>\n",
       "      <th>lang</th>\n",
       "      <th>text</th>\n",
       "      <th>id</th>\n",
       "      <th>retweet_count</th>\n",
       "      <th>source</th>\n",
       "      <th>favorite_count</th>\n",
       "      <th>source_url</th>\n",
       "      <th>id_str</th>\n",
       "      <th>user</th>\n",
       "      <th>author</th>\n",
       "    </tr>\n",
       "  </thead>\n",
       "  <tbody>\n",
       "    <tr>\n",
       "      <th>0</th>\n",
       "      <td>en</td>\n",
       "      <td>#KamalaHarris' husband Doug Emhoff will break ...</td>\n",
       "      <td>1325357413260808192</td>\n",
       "      <td>4</td>\n",
       "      <td>SocialFlow</td>\n",
       "      <td>62</td>\n",
       "      <td>http://www.socialflow.com</td>\n",
       "      <td>1325357413260808192</td>\n",
       "      <td>the_hindu</td>\n",
       "      <td>the_hindu</td>\n",
       "    </tr>\n",
       "    <tr>\n",
       "      <th>1</th>\n",
       "      <td>en</td>\n",
       "      <td>RT @THNewDelhi: Delhi Health Minister Satyenda...</td>\n",
       "      <td>1325355138605670400</td>\n",
       "      <td>8</td>\n",
       "      <td>TweetDeck</td>\n",
       "      <td>0</td>\n",
       "      <td>https://about.twitter.com/products/tweetdeck</td>\n",
       "      <td>1325355138605670400</td>\n",
       "      <td>the_hindu</td>\n",
       "      <td>the_hindu</td>\n",
       "    </tr>\n",
       "    <tr>\n",
       "      <th>2</th>\n",
       "      <td>en</td>\n",
       "      <td>RT @narendramodi: Congratulations @JoeBiden on...</td>\n",
       "      <td>1325354481991577601</td>\n",
       "      <td>29018</td>\n",
       "      <td>Twitter for iPhone</td>\n",
       "      <td>0</td>\n",
       "      <td>http://twitter.com/download/iphone</td>\n",
       "      <td>1325354481991577601</td>\n",
       "      <td>ptshrikant</td>\n",
       "      <td>ptshrikant</td>\n",
       "    </tr>\n",
       "    <tr>\n",
       "      <th>3</th>\n",
       "      <td>hi</td>\n",
       "      <td>RT @narendramodi: भाजपा को जन-जन तक पहुंचाने क...</td>\n",
       "      <td>1325354407538561025</td>\n",
       "      <td>4640</td>\n",
       "      <td>Twitter for iPhone</td>\n",
       "      <td>0</td>\n",
       "      <td>http://twitter.com/download/iphone</td>\n",
       "      <td>1325354407538561025</td>\n",
       "      <td>ptshrikant</td>\n",
       "      <td>ptshrikant</td>\n",
       "    </tr>\n",
       "    <tr>\n",
       "      <th>4</th>\n",
       "      <td>hi</td>\n",
       "      <td>RT @dvvnlchitrakoot: चित्रकूट के अंतर्गत आज रा...</td>\n",
       "      <td>1325354390270570497</td>\n",
       "      <td>1</td>\n",
       "      <td>Twitter Web App</td>\n",
       "      <td>0</td>\n",
       "      <td>https://mobile.twitter.com</td>\n",
       "      <td>1325354390270570497</td>\n",
       "      <td>UPPCLLKO</td>\n",
       "      <td>UPPCLLKO</td>\n",
       "    </tr>\n",
       "  </tbody>\n",
       "</table>\n",
       "</div>"
      ],
      "text/plain": [
       "  lang                                               text  \\\n",
       "0   en  #KamalaHarris' husband Doug Emhoff will break ...   \n",
       "1   en  RT @THNewDelhi: Delhi Health Minister Satyenda...   \n",
       "2   en  RT @narendramodi: Congratulations @JoeBiden on...   \n",
       "3   hi  RT @narendramodi: भाजपा को जन-जन तक पहुंचाने क...   \n",
       "4   hi  RT @dvvnlchitrakoot: चित्रकूट के अंतर्गत आज रा...   \n",
       "\n",
       "                    id  retweet_count              source  favorite_count  \\\n",
       "0  1325357413260808192              4          SocialFlow              62   \n",
       "1  1325355138605670400              8           TweetDeck               0   \n",
       "2  1325354481991577601          29018  Twitter for iPhone               0   \n",
       "3  1325354407538561025           4640  Twitter for iPhone               0   \n",
       "4  1325354390270570497              1     Twitter Web App               0   \n",
       "\n",
       "                                     source_url               id_str  \\\n",
       "0                     http://www.socialflow.com  1325357413260808192   \n",
       "1  https://about.twitter.com/products/tweetdeck  1325355138605670400   \n",
       "2            http://twitter.com/download/iphone  1325354481991577601   \n",
       "3            http://twitter.com/download/iphone  1325354407538561025   \n",
       "4                    https://mobile.twitter.com  1325354390270570497   \n",
       "\n",
       "         user      author  \n",
       "0   the_hindu   the_hindu  \n",
       "1   the_hindu   the_hindu  \n",
       "2  ptshrikant  ptshrikant  \n",
       "3  ptshrikant  ptshrikant  \n",
       "4    UPPCLLKO    UPPCLLKO  "
      ]
     },
     "execution_count": 37,
     "metadata": {},
     "output_type": "execute_result"
    }
   ],
   "source": [
    "df.head()"
   ]
  },
  {
   "cell_type": "code",
   "execution_count": 42,
   "metadata": {},
   "outputs": [],
   "source": [
    "def extract_timeline_as_df(timeline_list):\n",
    "    columns = set()\n",
    "    allowed_types = [int, str]\n",
    "    tweets_data = []\n",
    "    for status in timeline_list:\n",
    "        status_dict = dict(vars(status))\n",
    "        keys = status_dict.keys()\n",
    "        single_tweet_data = {\"user\": status.user.screen_name, \"author\": status.author.screen_name}\n",
    "        for k in keys:\n",
    "            try:\n",
    "                v_type = type(status_dict[k])\n",
    "            except:\n",
    "                v_type = None\n",
    "            if v_type != None:  \n",
    "                if v_type in allowed_types:\n",
    "                    single_tweet_data[k] = status_dict[k]\n",
    "                    columns.add(k)\n",
    "        tweets_data.append(single_tweet_data)\n",
    "\n",
    "    header_cols = list(columns)\n",
    "    header_cols.append(\"user\")\n",
    "    header_cols.append(\"author\")\n",
    "    df = pd.DataFrame(tweets_data, columns=header_cols)\n",
    "    return df\n"
   ]
  },
  {
   "cell_type": "code",
   "execution_count": 39,
   "metadata": {},
   "outputs": [],
   "source": [
    "my_timeline = api.home_timeline()"
   ]
  },
  {
   "cell_type": "code",
   "execution_count": 40,
   "metadata": {},
   "outputs": [
    {
     "name": "stdout",
     "output_type": "stream",
     "text": [
      "the_hindu\n",
      "the_hindu\n",
      "the_hindu\n",
      "the_hindu\n",
      "the_hindu\n",
      "Topcoder\n",
      "the_hindu\n",
      "ThePSF\n",
      "the_hindu\n",
      "the_hindu\n",
      "the_hindu\n",
      "androidcentral\n",
      "the_hindu\n",
      "the_hindu\n",
      "the_hindu\n",
      "the_hindu\n",
      "the_hindu\n",
      "the_hindu\n",
      "codechef\n",
      "the_hindu\n"
     ]
    },
    {
     "data": {
      "text/html": [
       "<div>\n",
       "<style scoped>\n",
       "    .dataframe tbody tr th:only-of-type {\n",
       "        vertical-align: middle;\n",
       "    }\n",
       "\n",
       "    .dataframe tbody tr th {\n",
       "        vertical-align: top;\n",
       "    }\n",
       "\n",
       "    .dataframe thead th {\n",
       "        text-align: right;\n",
       "    }\n",
       "</style>\n",
       "<table border=\"1\" class=\"dataframe\">\n",
       "  <thead>\n",
       "    <tr style=\"text-align: right;\">\n",
       "      <th></th>\n",
       "      <th>lang</th>\n",
       "      <th>text</th>\n",
       "      <th>id</th>\n",
       "      <th>retweet_count</th>\n",
       "      <th>source</th>\n",
       "      <th>favorite_count</th>\n",
       "      <th>source_url</th>\n",
       "      <th>id_str</th>\n",
       "      <th>user</th>\n",
       "      <th>author</th>\n",
       "    </tr>\n",
       "  </thead>\n",
       "  <tbody>\n",
       "    <tr>\n",
       "      <th>0</th>\n",
       "      <td>en</td>\n",
       "      <td>Elections cancelled in some areas; Rohingya re...</td>\n",
       "      <td>1325502114454450177</td>\n",
       "      <td>4</td>\n",
       "      <td>SocialFlow</td>\n",
       "      <td>59</td>\n",
       "      <td>http://www.socialflow.com</td>\n",
       "      <td>1325502114454450177</td>\n",
       "      <td>the_hindu</td>\n",
       "      <td>the_hindu</td>\n",
       "    </tr>\n",
       "    <tr>\n",
       "      <th>1</th>\n",
       "      <td>en</td>\n",
       "      <td>RT @TheHinduSports: #DelhiCapitals entered its...</td>\n",
       "      <td>1325499802667294720</td>\n",
       "      <td>3</td>\n",
       "      <td>TweetDeck</td>\n",
       "      <td>0</td>\n",
       "      <td>https://about.twitter.com/products/tweetdeck</td>\n",
       "      <td>1325499802667294720</td>\n",
       "      <td>the_hindu</td>\n",
       "      <td>the_hindu</td>\n",
       "    </tr>\n",
       "    <tr>\n",
       "      <th>2</th>\n",
       "      <td>en</td>\n",
       "      <td>The prestigious National Defence College marks...</td>\n",
       "      <td>1325498376939560962</td>\n",
       "      <td>4</td>\n",
       "      <td>SocialFlow</td>\n",
       "      <td>69</td>\n",
       "      <td>http://www.socialflow.com</td>\n",
       "      <td>1325498376939560962</td>\n",
       "      <td>the_hindu</td>\n",
       "      <td>the_hindu</td>\n",
       "    </tr>\n",
       "    <tr>\n",
       "      <th>3</th>\n",
       "      <td>en</td>\n",
       "      <td>RT @TheHinduSports: Just In | #DelhiCapitals b...</td>\n",
       "      <td>1325498173876441089</td>\n",
       "      <td>4</td>\n",
       "      <td>TweetDeck</td>\n",
       "      <td>0</td>\n",
       "      <td>https://about.twitter.com/products/tweetdeck</td>\n",
       "      <td>1325498173876441089</td>\n",
       "      <td>the_hindu</td>\n",
       "      <td>the_hindu</td>\n",
       "    </tr>\n",
       "    <tr>\n",
       "      <th>4</th>\n",
       "      <td>en</td>\n",
       "      <td>'A formal notice for appearance before the com...</td>\n",
       "      <td>1325494566603157505</td>\n",
       "      <td>3</td>\n",
       "      <td>SocialFlow</td>\n",
       "      <td>44</td>\n",
       "      <td>http://www.socialflow.com</td>\n",
       "      <td>1325494566603157505</td>\n",
       "      <td>the_hindu</td>\n",
       "      <td>the_hindu</td>\n",
       "    </tr>\n",
       "  </tbody>\n",
       "</table>\n",
       "</div>"
      ],
      "text/plain": [
       "  lang                                               text  \\\n",
       "0   en  Elections cancelled in some areas; Rohingya re...   \n",
       "1   en  RT @TheHinduSports: #DelhiCapitals entered its...   \n",
       "2   en  The prestigious National Defence College marks...   \n",
       "3   en  RT @TheHinduSports: Just In | #DelhiCapitals b...   \n",
       "4   en  'A formal notice for appearance before the com...   \n",
       "\n",
       "                    id  retweet_count      source  favorite_count  \\\n",
       "0  1325502114454450177              4  SocialFlow              59   \n",
       "1  1325499802667294720              3   TweetDeck               0   \n",
       "2  1325498376939560962              4  SocialFlow              69   \n",
       "3  1325498173876441089              4   TweetDeck               0   \n",
       "4  1325494566603157505              3  SocialFlow              44   \n",
       "\n",
       "                                     source_url               id_str  \\\n",
       "0                     http://www.socialflow.com  1325502114454450177   \n",
       "1  https://about.twitter.com/products/tweetdeck  1325499802667294720   \n",
       "2                     http://www.socialflow.com  1325498376939560962   \n",
       "3  https://about.twitter.com/products/tweetdeck  1325498173876441089   \n",
       "4                     http://www.socialflow.com  1325494566603157505   \n",
       "\n",
       "        user     author  \n",
       "0  the_hindu  the_hindu  \n",
       "1  the_hindu  the_hindu  \n",
       "2  the_hindu  the_hindu  \n",
       "3  the_hindu  the_hindu  \n",
       "4  the_hindu  the_hindu  "
      ]
     },
     "execution_count": 40,
     "metadata": {},
     "output_type": "execute_result"
    }
   ],
   "source": [
    "df2 = extract_timeline_as_df(my_timeline)\n",
    "df2.head()"
   ]
  },
  {
   "cell_type": "markdown",
   "metadata": {},
   "source": [
    "## Other user's timeline"
   ]
  },
  {
   "cell_type": "code",
   "execution_count": 45,
   "metadata": {},
   "outputs": [
    {
     "data": {
      "text/html": [
       "<div>\n",
       "<style scoped>\n",
       "    .dataframe tbody tr th:only-of-type {\n",
       "        vertical-align: middle;\n",
       "    }\n",
       "\n",
       "    .dataframe tbody tr th {\n",
       "        vertical-align: top;\n",
       "    }\n",
       "\n",
       "    .dataframe thead th {\n",
       "        text-align: right;\n",
       "    }\n",
       "</style>\n",
       "<table border=\"1\" class=\"dataframe\">\n",
       "  <thead>\n",
       "    <tr style=\"text-align: right;\">\n",
       "      <th></th>\n",
       "      <th>lang</th>\n",
       "      <th>quoted_status_id</th>\n",
       "      <th>text</th>\n",
       "      <th>id</th>\n",
       "      <th>retweet_count</th>\n",
       "      <th>source</th>\n",
       "      <th>favorite_count</th>\n",
       "      <th>quoted_status_id_str</th>\n",
       "      <th>source_url</th>\n",
       "      <th>id_str</th>\n",
       "      <th>user</th>\n",
       "      <th>author</th>\n",
       "    </tr>\n",
       "  </thead>\n",
       "  <tbody>\n",
       "    <tr>\n",
       "      <th>0</th>\n",
       "      <td>und</td>\n",
       "      <td>1.325322e+18</td>\n",
       "      <td>#uppclshg https://t.co/k0MHvAOVzw</td>\n",
       "      <td>1325487851056762880</td>\n",
       "      <td>1</td>\n",
       "      <td>Twitter for Android</td>\n",
       "      <td>3</td>\n",
       "      <td>1325322120734208002</td>\n",
       "      <td>http://twitter.com/download/android</td>\n",
       "      <td>1325487851056762880</td>\n",
       "      <td>UppclChairman</td>\n",
       "      <td>UppclChairman</td>\n",
       "    </tr>\n",
       "    <tr>\n",
       "      <th>1</th>\n",
       "      <td>hi</td>\n",
       "      <td>NaN</td>\n",
       "      <td>RT @puvvnlkusinagar: Vidhyut Shikayat Samadhan...</td>\n",
       "      <td>1325487637285675008</td>\n",
       "      <td>2</td>\n",
       "      <td>Twitter for Android</td>\n",
       "      <td>0</td>\n",
       "      <td>NaN</td>\n",
       "      <td>http://twitter.com/download/android</td>\n",
       "      <td>1325487637285675008</td>\n",
       "      <td>UppclChairman</td>\n",
       "      <td>UppclChairman</td>\n",
       "    </tr>\n",
       "    <tr>\n",
       "      <th>2</th>\n",
       "      <td>hi</td>\n",
       "      <td>NaN</td>\n",
       "      <td>RT @puvvnlazamgarh: Shikayat Nivaran Maha Camp...</td>\n",
       "      <td>1325487269520629760</td>\n",
       "      <td>3</td>\n",
       "      <td>Twitter for Android</td>\n",
       "      <td>0</td>\n",
       "      <td>NaN</td>\n",
       "      <td>http://twitter.com/download/android</td>\n",
       "      <td>1325487269520629760</td>\n",
       "      <td>UppclChairman</td>\n",
       "      <td>UppclChairman</td>\n",
       "    </tr>\n",
       "    <tr>\n",
       "      <th>3</th>\n",
       "      <td>hi</td>\n",
       "      <td>NaN</td>\n",
       "      <td>RT @puvvnlkusinagar: Vidhyut Shikayat Samadhan...</td>\n",
       "      <td>1325486969426644997</td>\n",
       "      <td>2</td>\n",
       "      <td>Twitter for Android</td>\n",
       "      <td>0</td>\n",
       "      <td>NaN</td>\n",
       "      <td>http://twitter.com/download/android</td>\n",
       "      <td>1325486969426644997</td>\n",
       "      <td>UppclChairman</td>\n",
       "      <td>UppclChairman</td>\n",
       "    </tr>\n",
       "    <tr>\n",
       "      <th>4</th>\n",
       "      <td>hi</td>\n",
       "      <td>NaN</td>\n",
       "      <td>RT @PuVVNLHQ: पूर्वांचल विद्युत वितरण निगम लिम...</td>\n",
       "      <td>1325486919225012231</td>\n",
       "      <td>19</td>\n",
       "      <td>Twitter for Android</td>\n",
       "      <td>0</td>\n",
       "      <td>NaN</td>\n",
       "      <td>http://twitter.com/download/android</td>\n",
       "      <td>1325486919225012231</td>\n",
       "      <td>UppclChairman</td>\n",
       "      <td>UppclChairman</td>\n",
       "    </tr>\n",
       "  </tbody>\n",
       "</table>\n",
       "</div>"
      ],
      "text/plain": [
       "  lang  quoted_status_id                                               text  \\\n",
       "0  und      1.325322e+18                  #uppclshg https://t.co/k0MHvAOVzw   \n",
       "1   hi               NaN  RT @puvvnlkusinagar: Vidhyut Shikayat Samadhan...   \n",
       "2   hi               NaN  RT @puvvnlazamgarh: Shikayat Nivaran Maha Camp...   \n",
       "3   hi               NaN  RT @puvvnlkusinagar: Vidhyut Shikayat Samadhan...   \n",
       "4   hi               NaN  RT @PuVVNLHQ: पूर्वांचल विद्युत वितरण निगम लिम...   \n",
       "\n",
       "                    id  retweet_count               source  favorite_count  \\\n",
       "0  1325487851056762880              1  Twitter for Android               3   \n",
       "1  1325487637285675008              2  Twitter for Android               0   \n",
       "2  1325487269520629760              3  Twitter for Android               0   \n",
       "3  1325486969426644997              2  Twitter for Android               0   \n",
       "4  1325486919225012231             19  Twitter for Android               0   \n",
       "\n",
       "  quoted_status_id_str                           source_url  \\\n",
       "0  1325322120734208002  http://twitter.com/download/android   \n",
       "1                  NaN  http://twitter.com/download/android   \n",
       "2                  NaN  http://twitter.com/download/android   \n",
       "3                  NaN  http://twitter.com/download/android   \n",
       "4                  NaN  http://twitter.com/download/android   \n",
       "\n",
       "                id_str           user         author  \n",
       "0  1325487851056762880  UppclChairman  UppclChairman  \n",
       "1  1325487637285675008  UppclChairman  UppclChairman  \n",
       "2  1325487269520629760  UppclChairman  UppclChairman  \n",
       "3  1325486969426644997  UppclChairman  UppclChairman  \n",
       "4  1325486919225012231  UppclChairman  UppclChairman  "
      ]
     },
     "execution_count": 45,
     "metadata": {},
     "output_type": "execute_result"
    }
   ],
   "source": [
    "user = api.get_user(\"UppclChairman\")\n",
    "user_timeline = user.timeline()\n",
    "df3 = extract_timeline_as_df(user_timeline)\n",
    "df3.head()"
   ]
  },
  {
   "cell_type": "code",
   "execution_count": null,
   "metadata": {},
   "outputs": [],
   "source": []
  },
  {
   "cell_type": "code",
   "execution_count": null,
   "metadata": {},
   "outputs": [],
   "source": []
  }
 ],
 "metadata": {
  "kernelspec": {
   "display_name": "Python 3",
   "language": "python",
   "name": "python3"
  },
  "language_info": {
   "codemirror_mode": {
    "name": "ipython",
    "version": 3
   },
   "file_extension": ".py",
   "mimetype": "text/x-python",
   "name": "python",
   "nbconvert_exporter": "python",
   "pygments_lexer": "ipython3",
   "version": "3.7.3"
  }
 },
 "nbformat": 4,
 "nbformat_minor": 2
}
