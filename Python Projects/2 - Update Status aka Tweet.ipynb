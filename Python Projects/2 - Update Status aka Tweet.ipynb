{
 "cells": [
  {
   "cell_type": "code",
   "execution_count": 1,
   "metadata": {},
   "outputs": [],
   "source": [
    "import tweepy\n",
    "import webbrowser\n",
    "import time"
   ]
  },
  {
   "cell_type": "code",
   "execution_count": 2,
   "metadata": {},
   "outputs": [],
   "source": [
    "consumer_key = 'h1FMGukUb2opdWyp6e5h4wXsJ'\n",
    "consumer_secret = 'Bd3604rdoBGdsVdBL6fubOpyYL44L0uJNpBp5D63IOe5k4h6Rg'"
   ]
  },
  {
   "cell_type": "code",
   "execution_count": 3,
   "metadata": {},
   "outputs": [],
   "source": [
    "callback_uri = 'oob'"
   ]
  },
  {
   "cell_type": "code",
   "execution_count": 4,
   "metadata": {},
   "outputs": [],
   "source": [
    "auth = tweepy.OAuthHandler(consumer_key,consumer_secret,callback_uri)"
   ]
  },
  {
   "cell_type": "code",
   "execution_count": 5,
   "metadata": {},
   "outputs": [],
   "source": [
    "redirect_url = auth.get_authorization_url()"
   ]
  },
  {
   "cell_type": "code",
   "execution_count": 6,
   "metadata": {},
   "outputs": [
    {
     "name": "stdout",
     "output_type": "stream",
     "text": [
      "https://api.twitter.com/oauth/authorize?oauth_token=sTvS2gAAAAABFPf5AAABdabgZwI\n"
     ]
    }
   ],
   "source": [
    "print(redirect_url)"
   ]
  },
  {
   "cell_type": "code",
   "execution_count": 7,
   "metadata": {},
   "outputs": [
    {
     "data": {
      "text/plain": [
       "True"
      ]
     },
     "execution_count": 7,
     "metadata": {},
     "output_type": "execute_result"
    }
   ],
   "source": [
    "webbrowser.open(redirect_url)"
   ]
  },
  {
   "cell_type": "code",
   "execution_count": 8,
   "metadata": {},
   "outputs": [
    {
     "name": "stdout",
     "output_type": "stream",
     "text": [
      "What is your pin ?6530861\n"
     ]
    }
   ],
   "source": [
    "user_pin_input = input(\"What is your pin ?\")"
   ]
  },
  {
   "cell_type": "code",
   "execution_count": 9,
   "metadata": {},
   "outputs": [
    {
     "data": {
      "text/plain": [
       "'6530861'"
      ]
     },
     "execution_count": 9,
     "metadata": {},
     "output_type": "execute_result"
    }
   ],
   "source": [
    "user_pin_input"
   ]
  },
  {
   "cell_type": "code",
   "execution_count": 10,
   "metadata": {},
   "outputs": [
    {
     "data": {
      "text/plain": [
       "('359263757-80cFdRPELOWd659u6G6wrCnDnioX3e9fFYJUWbcH',\n",
       " 'elyoFB2sAi8c3plOV19CeXgVS5yXcag0DYJtrcupceUZq')"
      ]
     },
     "execution_count": 10,
     "metadata": {},
     "output_type": "execute_result"
    }
   ],
   "source": [
    "auth.get_access_token(user_pin_input)"
   ]
  },
  {
   "cell_type": "code",
   "execution_count": 11,
   "metadata": {},
   "outputs": [],
   "source": [
    "api = tweepy.API(auth)"
   ]
  },
  {
   "cell_type": "code",
   "execution_count": 12,
   "metadata": {},
   "outputs": [],
   "source": [
    "me = api.me()"
   ]
  },
  {
   "cell_type": "code",
   "execution_count": 25,
   "metadata": {},
   "outputs": [
    {
     "name": "stdout",
     "output_type": "stream",
     "text": [
      "User(_api=<tweepy.api.API object at 0x00F2FB30>, _json={'id': 359263757, 'id_str': '359263757', 'name': 'Sanjay singh', 'screen_name': 'Sanjaygrt07', 'location': 'Lucknow', 'profile_location': None, 'description': '', 'url': None, 'entities': {'description': {'urls': []}}, 'protected': False, 'followers_count': 10, 'friends_count': 43, 'listed_count': 0, 'created_at': 'Sun Aug 21 08:40:07 +0000 2011', 'favourites_count': 39, 'utc_offset': None, 'time_zone': None, 'geo_enabled': False, 'verified': False, 'statuses_count': 34, 'lang': None, 'status': {'created_at': 'Sun Oct 04 06:10:13 +0000 2020', 'id': 1312636119964512256, 'id_str': '1312636119964512256', 'text': '#savepowersectorindia\\n#savePuVVNL @narendramodi @myogiadityanath @RajKSinghIndia @CMOfficeUP @ChiefSecyUP\\nUPPCL mgm… https://t.co/T09vAisiqA', 'truncated': True, 'entities': {'hashtags': [{'text': 'savepowersectorindia', 'indices': [0, 21]}, {'text': 'savePuVVNL', 'indices': [22, 33]}], 'symbols': [], 'user_mentions': [{'screen_name': 'narendramodi', 'name': 'Narendra Modi', 'id': 18839785, 'id_str': '18839785', 'indices': [34, 47]}, {'screen_name': 'myogiadityanath', 'name': 'Yogi Adityanath', 'id': 3437532637, 'id_str': '3437532637', 'indices': [48, 64]}, {'screen_name': 'RajKSinghIndia', 'name': 'R. K. Singh', 'id': 905771521305526272, 'id_str': '905771521305526272', 'indices': [65, 80]}, {'screen_name': 'CMOfficeUP', 'name': 'CM Office, GoUP', 'id': 2587240482, 'id_str': '2587240482', 'indices': [81, 92]}, {'screen_name': 'ChiefSecyUP', 'name': 'Chief Secretary,GoUP', 'id': 2587265450, 'id_str': '2587265450', 'indices': [93, 105]}], 'urls': [{'url': 'https://t.co/T09vAisiqA', 'expanded_url': 'https://twitter.com/i/web/status/1312636119964512256', 'display_url': 'twitter.com/i/web/status/1…', 'indices': [117, 140]}]}, 'source': '<a href=\"http://twitter.com/download/android\" rel=\"nofollow\">Twitter for Android</a>', 'in_reply_to_status_id': None, 'in_reply_to_status_id_str': None, 'in_reply_to_user_id': None, 'in_reply_to_user_id_str': None, 'in_reply_to_screen_name': None, 'geo': None, 'coordinates': None, 'place': None, 'contributors': None, 'is_quote_status': False, 'retweet_count': 4, 'favorite_count': 2, 'favorited': False, 'retweeted': False, 'lang': 'en'}, 'contributors_enabled': False, 'is_translator': False, 'is_translation_enabled': False, 'profile_background_color': 'C0DEED', 'profile_background_image_url': 'http://abs.twimg.com/images/themes/theme1/bg.png', 'profile_background_image_url_https': 'https://abs.twimg.com/images/themes/theme1/bg.png', 'profile_background_tile': False, 'profile_image_url': 'http://pbs.twimg.com/profile_images/1304309894649053186/o-vo1ia5_normal.jpg', 'profile_image_url_https': 'https://pbs.twimg.com/profile_images/1304309894649053186/o-vo1ia5_normal.jpg', 'profile_link_color': '473A21', 'profile_sidebar_border_color': 'C0DEED', 'profile_sidebar_fill_color': 'DDEEF6', 'profile_text_color': '333333', 'profile_use_background_image': True, 'has_extended_profile': True, 'default_profile': False, 'default_profile_image': False, 'following': False, 'follow_request_sent': False, 'notifications': False, 'translator_type': 'none', 'suspended': False, 'needs_phone_verification': False}, id=359263757, id_str='359263757', name='Sanjay singh', screen_name='Sanjaygrt07', location='Lucknow', profile_location=None, description='', url=None, entities={'description': {'urls': []}}, protected=False, followers_count=10, friends_count=43, listed_count=0, created_at=datetime.datetime(2011, 8, 21, 8, 40, 7), favourites_count=39, utc_offset=None, time_zone=None, geo_enabled=False, verified=False, statuses_count=34, lang=None, status=Status(_api=<tweepy.api.API object at 0x00F2FB30>, _json={'created_at': 'Sun Oct 04 06:10:13 +0000 2020', 'id': 1312636119964512256, 'id_str': '1312636119964512256', 'text': '#savepowersectorindia\\n#savePuVVNL @narendramodi @myogiadityanath @RajKSinghIndia @CMOfficeUP @ChiefSecyUP\\nUPPCL mgm… https://t.co/T09vAisiqA', 'truncated': True, 'entities': {'hashtags': [{'text': 'savepowersectorindia', 'indices': [0, 21]}, {'text': 'savePuVVNL', 'indices': [22, 33]}], 'symbols': [], 'user_mentions': [{'screen_name': 'narendramodi', 'name': 'Narendra Modi', 'id': 18839785, 'id_str': '18839785', 'indices': [34, 47]}, {'screen_name': 'myogiadityanath', 'name': 'Yogi Adityanath', 'id': 3437532637, 'id_str': '3437532637', 'indices': [48, 64]}, {'screen_name': 'RajKSinghIndia', 'name': 'R. K. Singh', 'id': 905771521305526272, 'id_str': '905771521305526272', 'indices': [65, 80]}, {'screen_name': 'CMOfficeUP', 'name': 'CM Office, GoUP', 'id': 2587240482, 'id_str': '2587240482', 'indices': [81, 92]}, {'screen_name': 'ChiefSecyUP', 'name': 'Chief Secretary,GoUP', 'id': 2587265450, 'id_str': '2587265450', 'indices': [93, 105]}], 'urls': [{'url': 'https://t.co/T09vAisiqA', 'expanded_url': 'https://twitter.com/i/web/status/1312636119964512256', 'display_url': 'twitter.com/i/web/status/1…', 'indices': [117, 140]}]}, 'source': '<a href=\"http://twitter.com/download/android\" rel=\"nofollow\">Twitter for Android</a>', 'in_reply_to_status_id': None, 'in_reply_to_status_id_str': None, 'in_reply_to_user_id': None, 'in_reply_to_user_id_str': None, 'in_reply_to_screen_name': None, 'geo': None, 'coordinates': None, 'place': None, 'contributors': None, 'is_quote_status': False, 'retweet_count': 4, 'favorite_count': 2, 'favorited': False, 'retweeted': False, 'lang': 'en'}, created_at=datetime.datetime(2020, 10, 4, 6, 10, 13), id=1312636119964512256, id_str='1312636119964512256', text='#savepowersectorindia\\n#savePuVVNL @narendramodi @myogiadityanath @RajKSinghIndia @CMOfficeUP @ChiefSecyUP\\nUPPCL mgm… https://t.co/T09vAisiqA', truncated=True, entities={'hashtags': [{'text': 'savepowersectorindia', 'indices': [0, 21]}, {'text': 'savePuVVNL', 'indices': [22, 33]}], 'symbols': [], 'user_mentions': [{'screen_name': 'narendramodi', 'name': 'Narendra Modi', 'id': 18839785, 'id_str': '18839785', 'indices': [34, 47]}, {'screen_name': 'myogiadityanath', 'name': 'Yogi Adityanath', 'id': 3437532637, 'id_str': '3437532637', 'indices': [48, 64]}, {'screen_name': 'RajKSinghIndia', 'name': 'R. K. Singh', 'id': 905771521305526272, 'id_str': '905771521305526272', 'indices': [65, 80]}, {'screen_name': 'CMOfficeUP', 'name': 'CM Office, GoUP', 'id': 2587240482, 'id_str': '2587240482', 'indices': [81, 92]}, {'screen_name': 'ChiefSecyUP', 'name': 'Chief Secretary,GoUP', 'id': 2587265450, 'id_str': '2587265450', 'indices': [93, 105]}], 'urls': [{'url': 'https://t.co/T09vAisiqA', 'expanded_url': 'https://twitter.com/i/web/status/1312636119964512256', 'display_url': 'twitter.com/i/web/status/1…', 'indices': [117, 140]}]}, source='Twitter for Android', source_url='http://twitter.com/download/android', in_reply_to_status_id=None, in_reply_to_status_id_str=None, in_reply_to_user_id=None, in_reply_to_user_id_str=None, in_reply_to_screen_name=None, geo=None, coordinates=None, place=None, contributors=None, is_quote_status=False, retweet_count=4, favorite_count=2, favorited=False, retweeted=False, lang='en'), contributors_enabled=False, is_translator=False, is_translation_enabled=False, profile_background_color='C0DEED', profile_background_image_url='http://abs.twimg.com/images/themes/theme1/bg.png', profile_background_image_url_https='https://abs.twimg.com/images/themes/theme1/bg.png', profile_background_tile=False, profile_image_url='http://pbs.twimg.com/profile_images/1304309894649053186/o-vo1ia5_normal.jpg', profile_image_url_https='https://pbs.twimg.com/profile_images/1304309894649053186/o-vo1ia5_normal.jpg', profile_link_color='473A21', profile_sidebar_border_color='C0DEED', profile_sidebar_fill_color='DDEEF6', profile_text_color='333333', profile_use_background_image=True, has_extended_profile=True, default_profile=False, default_profile_image=False, following=False, follow_request_sent=False, notifications=False, translator_type='none', suspended=False, needs_phone_verification=False)\n"
     ]
    }
   ],
   "source": [
    "print(me)"
   ]
  },
  {
   "cell_type": "code",
   "execution_count": 13,
   "metadata": {},
   "outputs": [
    {
     "name": "stdout",
     "output_type": "stream",
     "text": [
      "Sanjaygrt07\n"
     ]
    }
   ],
   "source": [
    "print(me.screen_name)"
   ]
  },
  {
   "cell_type": "code",
   "execution_count": 14,
   "metadata": {},
   "outputs": [
    {
     "name": "stdout",
     "output_type": "stream",
     "text": [
      "Sanjay singh\n"
     ]
    }
   ],
   "source": [
    "print(me.name)"
   ]
  },
  {
   "cell_type": "code",
   "execution_count": 15,
   "metadata": {},
   "outputs": [
    {
     "name": "stdout",
     "output_type": "stream",
     "text": [
      "10\n"
     ]
    }
   ],
   "source": [
    "print(me.followers_count)"
   ]
  },
  {
   "cell_type": "code",
   "execution_count": 16,
   "metadata": {},
   "outputs": [
    {
     "name": "stdout",
     "output_type": "stream",
     "text": [
      "34\n"
     ]
    }
   ],
   "source": [
    "number_of_tweets = me.statuses_count\n",
    "print(number_of_tweets)"
   ]
  },
  {
   "cell_type": "markdown",
   "metadata": {},
   "source": [
    "## New Tweet"
   ]
  },
  {
   "cell_type": "code",
   "execution_count": 17,
   "metadata": {},
   "outputs": [],
   "source": [
    "new_status = api.update_status(\"The best way to learn new skills is by doing it yourself. #LearnByDoing\")"
   ]
  },
  {
   "cell_type": "code",
   "execution_count": 18,
   "metadata": {},
   "outputs": [
    {
     "data": {
      "text/plain": [
       "Status(_api=<tweepy.api.API object at 0x067A6850>, _json={'created_at': 'Sun Nov 08 08:06:42 +0000 2020', 'id': 1325349009393737730, 'id_str': '1325349009393737730', 'text': 'The best way to learn new skills is by doing it yourself. #LearnByDoing', 'truncated': False, 'entities': {'hashtags': [{'text': 'LearnByDoing', 'indices': [58, 71]}], 'symbols': [], 'user_mentions': [], 'urls': []}, 'source': '<a href=\"https://placeholder.com\" rel=\"nofollow\">Complaints Retrieving App</a>', 'in_reply_to_status_id': None, 'in_reply_to_status_id_str': None, 'in_reply_to_user_id': None, 'in_reply_to_user_id_str': None, 'in_reply_to_screen_name': None, 'user': {'id': 359263757, 'id_str': '359263757', 'name': 'Sanjay singh', 'screen_name': 'Sanjaygrt07', 'location': 'Lucknow', 'description': '', 'url': None, 'entities': {'description': {'urls': []}}, 'protected': False, 'followers_count': 10, 'friends_count': 43, 'listed_count': 0, 'created_at': 'Sun Aug 21 08:40:07 +0000 2011', 'favourites_count': 39, 'utc_offset': None, 'time_zone': None, 'geo_enabled': False, 'verified': False, 'statuses_count': 35, 'lang': None, 'contributors_enabled': False, 'is_translator': False, 'is_translation_enabled': False, 'profile_background_color': 'C0DEED', 'profile_background_image_url': 'http://abs.twimg.com/images/themes/theme1/bg.png', 'profile_background_image_url_https': 'https://abs.twimg.com/images/themes/theme1/bg.png', 'profile_background_tile': False, 'profile_image_url': 'http://pbs.twimg.com/profile_images/1304309894649053186/o-vo1ia5_normal.jpg', 'profile_image_url_https': 'https://pbs.twimg.com/profile_images/1304309894649053186/o-vo1ia5_normal.jpg', 'profile_link_color': '473A21', 'profile_sidebar_border_color': 'C0DEED', 'profile_sidebar_fill_color': 'DDEEF6', 'profile_text_color': '333333', 'profile_use_background_image': True, 'has_extended_profile': True, 'default_profile': False, 'default_profile_image': False, 'following': False, 'follow_request_sent': False, 'notifications': False, 'translator_type': 'none'}, 'geo': None, 'coordinates': None, 'place': None, 'contributors': None, 'is_quote_status': False, 'retweet_count': 0, 'favorite_count': 0, 'favorited': False, 'retweeted': False, 'lang': 'en'}, created_at=datetime.datetime(2020, 11, 8, 8, 6, 42), id=1325349009393737730, id_str='1325349009393737730', text='The best way to learn new skills is by doing it yourself. #LearnByDoing', truncated=False, entities={'hashtags': [{'text': 'LearnByDoing', 'indices': [58, 71]}], 'symbols': [], 'user_mentions': [], 'urls': []}, source='Complaints Retrieving App', source_url='https://placeholder.com', in_reply_to_status_id=None, in_reply_to_status_id_str=None, in_reply_to_user_id=None, in_reply_to_user_id_str=None, in_reply_to_screen_name=None, author=User(_api=<tweepy.api.API object at 0x067A6850>, _json={'id': 359263757, 'id_str': '359263757', 'name': 'Sanjay singh', 'screen_name': 'Sanjaygrt07', 'location': 'Lucknow', 'description': '', 'url': None, 'entities': {'description': {'urls': []}}, 'protected': False, 'followers_count': 10, 'friends_count': 43, 'listed_count': 0, 'created_at': 'Sun Aug 21 08:40:07 +0000 2011', 'favourites_count': 39, 'utc_offset': None, 'time_zone': None, 'geo_enabled': False, 'verified': False, 'statuses_count': 35, 'lang': None, 'contributors_enabled': False, 'is_translator': False, 'is_translation_enabled': False, 'profile_background_color': 'C0DEED', 'profile_background_image_url': 'http://abs.twimg.com/images/themes/theme1/bg.png', 'profile_background_image_url_https': 'https://abs.twimg.com/images/themes/theme1/bg.png', 'profile_background_tile': False, 'profile_image_url': 'http://pbs.twimg.com/profile_images/1304309894649053186/o-vo1ia5_normal.jpg', 'profile_image_url_https': 'https://pbs.twimg.com/profile_images/1304309894649053186/o-vo1ia5_normal.jpg', 'profile_link_color': '473A21', 'profile_sidebar_border_color': 'C0DEED', 'profile_sidebar_fill_color': 'DDEEF6', 'profile_text_color': '333333', 'profile_use_background_image': True, 'has_extended_profile': True, 'default_profile': False, 'default_profile_image': False, 'following': False, 'follow_request_sent': False, 'notifications': False, 'translator_type': 'none'}, id=359263757, id_str='359263757', name='Sanjay singh', screen_name='Sanjaygrt07', location='Lucknow', description='', url=None, entities={'description': {'urls': []}}, protected=False, followers_count=10, friends_count=43, listed_count=0, created_at=datetime.datetime(2011, 8, 21, 8, 40, 7), favourites_count=39, utc_offset=None, time_zone=None, geo_enabled=False, verified=False, statuses_count=35, lang=None, contributors_enabled=False, is_translator=False, is_translation_enabled=False, profile_background_color='C0DEED', profile_background_image_url='http://abs.twimg.com/images/themes/theme1/bg.png', profile_background_image_url_https='https://abs.twimg.com/images/themes/theme1/bg.png', profile_background_tile=False, profile_image_url='http://pbs.twimg.com/profile_images/1304309894649053186/o-vo1ia5_normal.jpg', profile_image_url_https='https://pbs.twimg.com/profile_images/1304309894649053186/o-vo1ia5_normal.jpg', profile_link_color='473A21', profile_sidebar_border_color='C0DEED', profile_sidebar_fill_color='DDEEF6', profile_text_color='333333', profile_use_background_image=True, has_extended_profile=True, default_profile=False, default_profile_image=False, following=False, follow_request_sent=False, notifications=False, translator_type='none'), user=User(_api=<tweepy.api.API object at 0x067A6850>, _json={'id': 359263757, 'id_str': '359263757', 'name': 'Sanjay singh', 'screen_name': 'Sanjaygrt07', 'location': 'Lucknow', 'description': '', 'url': None, 'entities': {'description': {'urls': []}}, 'protected': False, 'followers_count': 10, 'friends_count': 43, 'listed_count': 0, 'created_at': 'Sun Aug 21 08:40:07 +0000 2011', 'favourites_count': 39, 'utc_offset': None, 'time_zone': None, 'geo_enabled': False, 'verified': False, 'statuses_count': 35, 'lang': None, 'contributors_enabled': False, 'is_translator': False, 'is_translation_enabled': False, 'profile_background_color': 'C0DEED', 'profile_background_image_url': 'http://abs.twimg.com/images/themes/theme1/bg.png', 'profile_background_image_url_https': 'https://abs.twimg.com/images/themes/theme1/bg.png', 'profile_background_tile': False, 'profile_image_url': 'http://pbs.twimg.com/profile_images/1304309894649053186/o-vo1ia5_normal.jpg', 'profile_image_url_https': 'https://pbs.twimg.com/profile_images/1304309894649053186/o-vo1ia5_normal.jpg', 'profile_link_color': '473A21', 'profile_sidebar_border_color': 'C0DEED', 'profile_sidebar_fill_color': 'DDEEF6', 'profile_text_color': '333333', 'profile_use_background_image': True, 'has_extended_profile': True, 'default_profile': False, 'default_profile_image': False, 'following': False, 'follow_request_sent': False, 'notifications': False, 'translator_type': 'none'}, id=359263757, id_str='359263757', name='Sanjay singh', screen_name='Sanjaygrt07', location='Lucknow', description='', url=None, entities={'description': {'urls': []}}, protected=False, followers_count=10, friends_count=43, listed_count=0, created_at=datetime.datetime(2011, 8, 21, 8, 40, 7), favourites_count=39, utc_offset=None, time_zone=None, geo_enabled=False, verified=False, statuses_count=35, lang=None, contributors_enabled=False, is_translator=False, is_translation_enabled=False, profile_background_color='C0DEED', profile_background_image_url='http://abs.twimg.com/images/themes/theme1/bg.png', profile_background_image_url_https='https://abs.twimg.com/images/themes/theme1/bg.png', profile_background_tile=False, profile_image_url='http://pbs.twimg.com/profile_images/1304309894649053186/o-vo1ia5_normal.jpg', profile_image_url_https='https://pbs.twimg.com/profile_images/1304309894649053186/o-vo1ia5_normal.jpg', profile_link_color='473A21', profile_sidebar_border_color='C0DEED', profile_sidebar_fill_color='DDEEF6', profile_text_color='333333', profile_use_background_image=True, has_extended_profile=True, default_profile=False, default_profile_image=False, following=False, follow_request_sent=False, notifications=False, translator_type='none'), geo=None, coordinates=None, place=None, contributors=None, is_quote_status=False, retweet_count=0, favorite_count=0, favorited=False, retweeted=False, lang='en')"
      ]
     },
     "execution_count": 18,
     "metadata": {},
     "output_type": "execute_result"
    }
   ],
   "source": [
    "new_status.destroy()"
   ]
  },
  {
   "cell_type": "code",
   "execution_count": 19,
   "metadata": {},
   "outputs": [
    {
     "data": {
      "text/plain": [
       "['__class__',\n",
       " '__delattr__',\n",
       " '__dict__',\n",
       " '__dir__',\n",
       " '__doc__',\n",
       " '__eq__',\n",
       " '__format__',\n",
       " '__ge__',\n",
       " '__getattribute__',\n",
       " '__getstate__',\n",
       " '__gt__',\n",
       " '__hash__',\n",
       " '__init__',\n",
       " '__init_subclass__',\n",
       " '__le__',\n",
       " '__lt__',\n",
       " '__module__',\n",
       " '__ne__',\n",
       " '__new__',\n",
       " '__reduce__',\n",
       " '__reduce_ex__',\n",
       " '__repr__',\n",
       " '__setattr__',\n",
       " '__sizeof__',\n",
       " '__str__',\n",
       " '__subclasshook__',\n",
       " '__weakref__',\n",
       " '_api',\n",
       " '_json',\n",
       " 'author',\n",
       " 'contributors',\n",
       " 'coordinates',\n",
       " 'created_at',\n",
       " 'destroy',\n",
       " 'entities',\n",
       " 'favorite',\n",
       " 'favorite_count',\n",
       " 'favorited',\n",
       " 'geo',\n",
       " 'id',\n",
       " 'id_str',\n",
       " 'in_reply_to_screen_name',\n",
       " 'in_reply_to_status_id',\n",
       " 'in_reply_to_status_id_str',\n",
       " 'in_reply_to_user_id',\n",
       " 'in_reply_to_user_id_str',\n",
       " 'is_quote_status',\n",
       " 'lang',\n",
       " 'parse',\n",
       " 'parse_list',\n",
       " 'place',\n",
       " 'retweet',\n",
       " 'retweet_count',\n",
       " 'retweeted',\n",
       " 'retweets',\n",
       " 'source',\n",
       " 'source_url',\n",
       " 'text',\n",
       " 'truncated',\n",
       " 'user']"
      ]
     },
     "execution_count": 19,
     "metadata": {},
     "output_type": "execute_result"
    }
   ],
   "source": [
    "dir(new_status)"
   ]
  },
  {
   "cell_type": "markdown",
   "metadata": {},
   "source": [
    "## Tweet with an image"
   ]
  },
  {
   "cell_type": "code",
   "execution_count": 20,
   "metadata": {},
   "outputs": [
    {
     "data": {
      "text/plain": [
       "['__class__',\n",
       " '__delattr__',\n",
       " '__dict__',\n",
       " '__dir__',\n",
       " '__doc__',\n",
       " '__eq__',\n",
       " '__format__',\n",
       " '__ge__',\n",
       " '__getattribute__',\n",
       " '__gt__',\n",
       " '__hash__',\n",
       " '__init__',\n",
       " '__init_subclass__',\n",
       " '__le__',\n",
       " '__lt__',\n",
       " '__module__',\n",
       " '__ne__',\n",
       " '__new__',\n",
       " '__reduce__',\n",
       " '__reduce_ex__',\n",
       " '__repr__',\n",
       " '__setattr__',\n",
       " '__sizeof__',\n",
       " '__str__',\n",
       " '__subclasshook__',\n",
       " '__weakref__',\n",
       " '_add_list_members',\n",
       " '_lookup_friendships',\n",
       " '_lookup_users',\n",
       " '_pack_image',\n",
       " '_remove_list_members',\n",
       " '_send_direct_message',\n",
       " '_statuses_lookup',\n",
       " 'add_list_member',\n",
       " 'add_list_members',\n",
       " 'api_root',\n",
       " 'auth',\n",
       " 'blocks',\n",
       " 'blocks_ids',\n",
       " 'cache',\n",
       " 'cached_result',\n",
       " 'compression',\n",
       " 'configuration',\n",
       " 'create_block',\n",
       " 'create_favorite',\n",
       " 'create_friendship',\n",
       " 'create_list',\n",
       " 'create_mute',\n",
       " 'create_saved_search',\n",
       " 'destroy_block',\n",
       " 'destroy_direct_message',\n",
       " 'destroy_favorite',\n",
       " 'destroy_friendship',\n",
       " 'destroy_list',\n",
       " 'destroy_mute',\n",
       " 'destroy_saved_search',\n",
       " 'destroy_status',\n",
       " 'favorites',\n",
       " 'followers',\n",
       " 'followers_ids',\n",
       " 'friends',\n",
       " 'friends_ids',\n",
       " 'friendships_incoming',\n",
       " 'friendships_outgoing',\n",
       " 'geo_id',\n",
       " 'geo_search',\n",
       " 'geo_similar_places',\n",
       " 'get_direct_message',\n",
       " 'get_list',\n",
       " 'get_oembed',\n",
       " 'get_saved_search',\n",
       " 'get_settings',\n",
       " 'get_status',\n",
       " 'get_user',\n",
       " 'home_timeline',\n",
       " 'host',\n",
       " 'last_response',\n",
       " 'list_direct_messages',\n",
       " 'list_members',\n",
       " 'list_subscribers',\n",
       " 'list_timeline',\n",
       " 'lists_all',\n",
       " 'lists_memberships',\n",
       " 'lists_subscriptions',\n",
       " 'lookup_friendships',\n",
       " 'lookup_users',\n",
       " 'me',\n",
       " 'media_upload',\n",
       " 'mentions_timeline',\n",
       " 'mutes',\n",
       " 'mutes_ids',\n",
       " 'parser',\n",
       " 'proxy',\n",
       " 'rate_limit_status',\n",
       " 'related_results',\n",
       " 'remove_list_member',\n",
       " 'remove_list_members',\n",
       " 'report_spam',\n",
       " 'retry_count',\n",
       " 'retry_delay',\n",
       " 'retry_errors',\n",
       " 'retweet',\n",
       " 'retweeters',\n",
       " 'retweets',\n",
       " 'retweets_of_me',\n",
       " 'reverse_geocode',\n",
       " 'saved_searches',\n",
       " 'search',\n",
       " 'search_host',\n",
       " 'search_root',\n",
       " 'search_users',\n",
       " 'send_direct_message',\n",
       " 'set_settings',\n",
       " 'show_friendship',\n",
       " 'show_list_member',\n",
       " 'show_list_subscriber',\n",
       " 'statuses_lookup',\n",
       " 'subscribe_list',\n",
       " 'supported_languages',\n",
       " 'timeout',\n",
       " 'trends_available',\n",
       " 'trends_closest',\n",
       " 'trends_place',\n",
       " 'unretweet',\n",
       " 'unsubscribe_list',\n",
       " 'update_list',\n",
       " 'update_profile',\n",
       " 'update_profile_background_image',\n",
       " 'update_profile_banner',\n",
       " 'update_profile_image',\n",
       " 'update_status',\n",
       " 'update_with_media',\n",
       " 'upload_host',\n",
       " 'upload_root',\n",
       " 'user_timeline',\n",
       " 'verify_credentials',\n",
       " 'wait_on_rate_limit',\n",
       " 'wait_on_rate_limit_notify']"
      ]
     },
     "execution_count": 20,
     "metadata": {},
     "output_type": "execute_result"
    }
   ],
   "source": [
    "dir(api)"
   ]
  },
  {
   "cell_type": "code",
   "execution_count": 21,
   "metadata": {},
   "outputs": [],
   "source": [
    "img_obj = api.media_upload(\"learnbydoing.png\")"
   ]
  },
  {
   "cell_type": "code",
   "execution_count": 22,
   "metadata": {},
   "outputs": [
    {
     "data": {
      "text/plain": [
       "['__class__',\n",
       " '__delattr__',\n",
       " '__dict__',\n",
       " '__dir__',\n",
       " '__doc__',\n",
       " '__eq__',\n",
       " '__format__',\n",
       " '__ge__',\n",
       " '__getattribute__',\n",
       " '__getstate__',\n",
       " '__gt__',\n",
       " '__hash__',\n",
       " '__init__',\n",
       " '__init_subclass__',\n",
       " '__le__',\n",
       " '__lt__',\n",
       " '__module__',\n",
       " '__ne__',\n",
       " '__new__',\n",
       " '__reduce__',\n",
       " '__reduce_ex__',\n",
       " '__repr__',\n",
       " '__setattr__',\n",
       " '__sizeof__',\n",
       " '__str__',\n",
       " '__subclasshook__',\n",
       " '__weakref__',\n",
       " '_api',\n",
       " 'expires_after_secs',\n",
       " 'image',\n",
       " 'media_id',\n",
       " 'media_id_string',\n",
       " 'parse',\n",
       " 'parse_list',\n",
       " 'size']"
      ]
     },
     "execution_count": 22,
     "metadata": {},
     "output_type": "execute_result"
    }
   ],
   "source": [
    "dir(img_obj)"
   ]
  },
  {
   "cell_type": "code",
   "execution_count": 23,
   "metadata": {},
   "outputs": [],
   "source": [
    "new_status_with_img = api.update_status(\"The best way to learn new skills is by doing it yourself. #LearnByDoing\",media_ids = [img_obj.media_id_string])"
   ]
  },
  {
   "cell_type": "code",
   "execution_count": null,
   "metadata": {},
   "outputs": [],
   "source": []
  }
 ],
 "metadata": {
  "kernelspec": {
   "display_name": "Python 3",
   "language": "python",
   "name": "python3"
  },
  "language_info": {
   "codemirror_mode": {
    "name": "ipython",
    "version": 3
   },
   "file_extension": ".py",
   "mimetype": "text/x-python",
   "name": "python",
   "nbconvert_exporter": "python",
   "pygments_lexer": "ipython3",
   "version": "3.7.3"
  }
 },
 "nbformat": 4,
 "nbformat_minor": 2
}
