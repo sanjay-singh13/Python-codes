{
 "cells": [
  {
   "cell_type": "code",
   "execution_count": 2,
   "metadata": {},
   "outputs": [
    {
     "name": "stdout",
     "output_type": "stream",
     "text": [
      "puvvnlmd\n",
      "  USER OR HANDLE                       NAME  FOLLOWERS  TWEETS  \\\n",
      "0     ptshrikant            Shrikant Sharma    1472707   46109   \n",
      "1     EMofficeUP  Energy Minister Office UP     112700   24110   \n",
      "2  UppclChairman                  CMD UPPCL      34747    1620   \n",
      "3        mduppcl                    MDUPPCL      29356    4757   \n",
      "4       UPPCLLKO                      UPPCL     134413  285020   \n",
      "5        MDDVVNL              MD DVVNL AGRA       2934    1331   \n",
      "6        MVVNLmd                      MVVNL      15344    5532   \n",
      "7       PuvvnlMd                 @MD_PuVVNL        552       0   \n",
      "8        MdPvvnl                   PVVNL HQ      22111    8695   \n",
      "\n",
      "         LATEST_TWEET  \n",
      "0 2021-10-08 13:06:00  \n",
      "1 2021-10-08 13:04:13  \n",
      "2 2021-02-06 16:53:28  \n",
      "3 2021-10-08 01:29:13  \n",
      "4 2021-10-08 14:55:58  \n",
      "5 2021-10-08 13:16:05  \n",
      "6 2021-10-08 14:56:08  \n",
      "7 2021-10-08 14:56:08  \n",
      "8 2021-10-08 06:24:12  \n"
     ]
    }
   ],
   "source": [
    "import tweepy\n",
    "import webbrowser\n",
    "import time\n",
    "import pandas as pd\n",
    "\n",
    "consumer_key = 'h1FMGukUb2opdWyp6e5h4wXsJ'\n",
    "consumer_secret = 'Bd3604rdoBGdsVdBL6fubOpyYL44L0uJNpBp5D63IOe5k4h6Rg'\n",
    "access_token = '359263757-cULZ2ajnBbST0hKg34oWkSKfyw5WHr3t0hAD1ghZ'\n",
    "access_token_secret = 'vsmYdUvfGISnwpjftR2R0haRyV7SGPHTUsCVxoRirh4Mj'\n",
    "\n",
    "auth = tweepy.OAuthHandler(consumer_key,consumer_secret)\n",
    "auth.set_access_token(access_token,access_token_secret)\n",
    "\n",
    "api = tweepy.API(auth)\n",
    "\n",
    "def extract_discom_data(area_list):\n",
    "    uppcl_data = []\n",
    "    columns_headers = ['USER OR HANDLE','NAME','FOLLOWERS','TWEETS','LATEST_TWEET']\n",
    "    for area in area_list:\n",
    "        try:\n",
    "            user = api.get_user(area)\n",
    "            tweet_date = api.user_timeline(area)[0].created_at\n",
    "        except:\n",
    "            print(area)\n",
    "            \n",
    "        single_area_data = {'USER OR HANDLE': user.screen_name,'NAME':user.name,'FOLLOWERS':user.followers_count,'TWEETS':user.statuses_count,'LATEST_TWEET':tweet_date}\n",
    "        uppcl_data.append(single_area_data)\n",
    "\n",
    "    data = pd.DataFrame(uppcl_data,columns=columns_headers)\n",
    "    return data\n",
    "\n",
    "df = pd.read_excel(\"./twitterhandles.xlsx\",sheet_name=\"management\")\n",
    "\n",
    "result = extract_discom_data(df['handles'].tolist())\n",
    "result.to_excel(\"./result.xlsx\")\n",
    "print(result)"
   ]
  },
  {
   "cell_type": "code",
   "execution_count": 3,
   "metadata": {},
   "outputs": [
    {
     "name": "stdout",
     "output_type": "stream",
     "text": [
      "Status(_api=<tweepy.api.API object at 0x000001561F76E280>, _json={'created_at': 'Fri Oct 08 14:56:51 +0000 2021', 'id': 1446489774437531656, 'id_str': '1446489774437531656', 'text': '@DrxRkSingh @myogiadityanath @BJP4UP @ptshrikant @mvvnlbudaun @UppclChairman https://t.co/IZ88R2RA3v', 'truncated': False, 'entities': {'hashtags': [], 'symbols': [], 'user_mentions': [{'screen_name': 'DrxRkSingh', 'name': 'Drx Rahul Kumar Singh', 'id': 1201085865587400706, 'id_str': '1201085865587400706', 'indices': [0, 11]}, {'screen_name': 'myogiadityanath', 'name': 'Yogi Adityanath', 'id': 3437532637, 'id_str': '3437532637', 'indices': [12, 28]}, {'screen_name': 'BJP4UP', 'name': 'BJP Uttar Pradesh', 'id': 2220938808, 'id_str': '2220938808', 'indices': [29, 36]}, {'screen_name': 'ptshrikant', 'name': 'Shrikant Sharma', 'id': 798135834, 'id_str': '798135834', 'indices': [37, 48]}, {'screen_name': 'mvvnlbudaun', 'name': 'MVVNL Budaun', 'id': 862978244689223680, 'id_str': '862978244689223680', 'indices': [49, 61]}, {'screen_name': 'UppclChairman', 'name': 'CMD UPPCL', 'id': 1243357281883803648, 'id_str': '1243357281883803648', 'indices': [62, 76]}], 'urls': [{'url': 'https://t.co/IZ88R2RA3v', 'expanded_url': 'https://twitter.com/MVVNLHQ/status/1446487487338086404?s=20', 'display_url': 'twitter.com/MVVNLHQ/status…', 'indices': [77, 100]}]}, 'source': '<a href=\"https://mobile.twitter.com\" rel=\"nofollow\">Twitter Web App</a>', 'in_reply_to_status_id': 1446477997289000967, 'in_reply_to_status_id_str': '1446477997289000967', 'in_reply_to_user_id': 1201085865587400706, 'in_reply_to_user_id_str': '1201085865587400706', 'in_reply_to_screen_name': 'DrxRkSingh', 'user': {'id': 702796463642972160, 'id_str': '702796463642972160', 'name': 'UPPCL', 'screen_name': 'UPPCLLKO', 'location': 'Hazratganj, Lucknow', 'description': 'Welcome to Official Twitter Handle of Uttar Pradesh Power Corporation Ltd. (UPPCL) (A Govt. of UP Undertaking) 14 Ashok Marg  Hazratganj, Shakti Bhawan Lucknow.', 'url': 'https://t.co/ImoTc21SSg', 'entities': {'url': {'urls': [{'url': 'https://t.co/ImoTc21SSg', 'expanded_url': 'https://www.upenergy.in/uppcl', 'display_url': 'upenergy.in/uppcl', 'indices': [0, 23]}]}, 'description': {'urls': []}}, 'protected': False, 'followers_count': 134414, 'friends_count': 88, 'listed_count': 60, 'created_at': 'Thu Feb 25 10:05:09 +0000 2016', 'favourites_count': 3427, 'utc_offset': None, 'time_zone': None, 'geo_enabled': False, 'verified': True, 'statuses_count': 285023, 'lang': None, 'contributors_enabled': False, 'is_translator': False, 'is_translation_enabled': False, 'profile_background_color': '000000', 'profile_background_image_url': 'http://abs.twimg.com/images/themes/theme1/bg.png', 'profile_background_image_url_https': 'https://abs.twimg.com/images/themes/theme1/bg.png', 'profile_background_tile': False, 'profile_image_url': 'http://pbs.twimg.com/profile_images/706763223928705024/poULoVgG_normal.jpg', 'profile_image_url_https': 'https://pbs.twimg.com/profile_images/706763223928705024/poULoVgG_normal.jpg', 'profile_banner_url': 'https://pbs.twimg.com/profile_banners/702796463642972160/1484140234', 'profile_link_color': 'A72C25', 'profile_sidebar_border_color': '000000', 'profile_sidebar_fill_color': '000000', 'profile_text_color': '000000', 'profile_use_background_image': False, 'has_extended_profile': True, 'default_profile': False, 'default_profile_image': False, 'following': False, 'follow_request_sent': False, 'notifications': False, 'translator_type': 'none', 'withheld_in_countries': []}, 'geo': None, 'coordinates': None, 'place': None, 'contributors': None, 'is_quote_status': True, 'quoted_status_id': 1446487487338086404, 'quoted_status_id_str': '1446487487338086404', 'quoted_status': {'created_at': 'Fri Oct 08 14:47:46 +0000 2021', 'id': 1446487487338086404, 'id_str': '1446487487338086404', 'text': '@UPPCLLKO @DrxRkSingh @ptshrikant @mvvnlbudaun @UppclChairman आपकी शिकायत संख्या MV0810213699 दर्ज कर आवश्यक कार्य… https://t.co/woqwILmFDm', 'truncated': True, 'entities': {'hashtags': [], 'symbols': [], 'user_mentions': [{'screen_name': 'UPPCLLKO', 'name': 'UPPCL', 'id': 702796463642972160, 'id_str': '702796463642972160', 'indices': [0, 9]}, {'screen_name': 'DrxRkSingh', 'name': 'Drx Rahul Kumar Singh', 'id': 1201085865587400706, 'id_str': '1201085865587400706', 'indices': [10, 21]}, {'screen_name': 'ptshrikant', 'name': 'Shrikant Sharma', 'id': 798135834, 'id_str': '798135834', 'indices': [22, 33]}, {'screen_name': 'mvvnlbudaun', 'name': 'MVVNL Budaun', 'id': 862978244689223680, 'id_str': '862978244689223680', 'indices': [34, 46]}, {'screen_name': 'UppclChairman', 'name': 'CMD UPPCL', 'id': 1243357281883803648, 'id_str': '1243357281883803648', 'indices': [47, 61]}], 'urls': [{'url': 'https://t.co/woqwILmFDm', 'expanded_url': 'https://twitter.com/i/web/status/1446487487338086404', 'display_url': 'twitter.com/i/web/status/1…', 'indices': [116, 139]}]}, 'source': '<a href=\"https://mobile.twitter.com\" rel=\"nofollow\">Twitter Web App</a>', 'in_reply_to_status_id': 1446485771326660614, 'in_reply_to_status_id_str': '1446485771326660614', 'in_reply_to_user_id': 702796463642972160, 'in_reply_to_user_id_str': '702796463642972160', 'in_reply_to_screen_name': 'UPPCLLKO', 'user': {'id': 753403115907473408, 'id_str': '753403115907473408', 'name': 'Madhyanchal Vidyut Vitran Nigam Limited', 'screen_name': 'MVVNLHQ', 'location': '4 A, Gokhale Marg, Lucknow', 'description': '@MVVNLHQ is the official twitter account of Madhyanchal Vidyut Vitran Nigam Ltd.(MVVNL) & Its Customer Care Center.', 'url': 'https://t.co/4Mh2ejntPk', 'entities': {'url': {'urls': [{'url': 'https://t.co/4Mh2ejntPk', 'expanded_url': 'https://www.mvvnl.in', 'display_url': 'mvvnl.in', 'indices': [0, 23]}]}, 'description': {'urls': []}}, 'protected': False, 'followers_count': 24856, 'friends_count': 109, 'listed_count': 16, 'created_at': 'Thu Jul 14 01:37:55 +0000 2016', 'favourites_count': 282, 'utc_offset': None, 'time_zone': None, 'geo_enabled': True, 'verified': False, 'statuses_count': 157601, 'lang': None, 'contributors_enabled': False, 'is_translator': False, 'is_translation_enabled': False, 'profile_background_color': 'F5F8FA', 'profile_background_image_url': None, 'profile_background_image_url_https': None, 'profile_background_tile': False, 'profile_image_url': 'http://pbs.twimg.com/profile_images/1344195774213545985/sNJWrMQN_normal.jpg', 'profile_image_url_https': 'https://pbs.twimg.com/profile_images/1344195774213545985/sNJWrMQN_normal.jpg', 'profile_banner_url': 'https://pbs.twimg.com/profile_banners/753403115907473408/1609316223', 'profile_link_color': '1DA1F2', 'profile_sidebar_border_color': 'C0DEED', 'profile_sidebar_fill_color': 'DDEEF6', 'profile_text_color': '333333', 'profile_use_background_image': True, 'has_extended_profile': False, 'default_profile': True, 'default_profile_image': False, 'following': False, 'follow_request_sent': False, 'notifications': False, 'translator_type': 'none', 'withheld_in_countries': []}, 'geo': None, 'coordinates': None, 'place': None, 'contributors': None, 'is_quote_status': False, 'retweet_count': 0, 'favorite_count': 0, 'favorited': False, 'retweeted': False, 'lang': 'hi'}, 'retweet_count': 0, 'favorite_count': 0, 'favorited': False, 'retweeted': False, 'possibly_sensitive': False, 'lang': 'und'}, created_at=datetime.datetime(2021, 10, 8, 14, 56, 51), id=1446489774437531656, id_str='1446489774437531656', text='@DrxRkSingh @myogiadityanath @BJP4UP @ptshrikant @mvvnlbudaun @UppclChairman https://t.co/IZ88R2RA3v', truncated=False, entities={'hashtags': [], 'symbols': [], 'user_mentions': [{'screen_name': 'DrxRkSingh', 'name': 'Drx Rahul Kumar Singh', 'id': 1201085865587400706, 'id_str': '1201085865587400706', 'indices': [0, 11]}, {'screen_name': 'myogiadityanath', 'name': 'Yogi Adityanath', 'id': 3437532637, 'id_str': '3437532637', 'indices': [12, 28]}, {'screen_name': 'BJP4UP', 'name': 'BJP Uttar Pradesh', 'id': 2220938808, 'id_str': '2220938808', 'indices': [29, 36]}, {'screen_name': 'ptshrikant', 'name': 'Shrikant Sharma', 'id': 798135834, 'id_str': '798135834', 'indices': [37, 48]}, {'screen_name': 'mvvnlbudaun', 'name': 'MVVNL Budaun', 'id': 862978244689223680, 'id_str': '862978244689223680', 'indices': [49, 61]}, {'screen_name': 'UppclChairman', 'name': 'CMD UPPCL', 'id': 1243357281883803648, 'id_str': '1243357281883803648', 'indices': [62, 76]}], 'urls': [{'url': 'https://t.co/IZ88R2RA3v', 'expanded_url': 'https://twitter.com/MVVNLHQ/status/1446487487338086404?s=20', 'display_url': 'twitter.com/MVVNLHQ/status…', 'indices': [77, 100]}]}, source='Twitter Web App', source_url='https://mobile.twitter.com', in_reply_to_status_id=1446477997289000967, in_reply_to_status_id_str='1446477997289000967', in_reply_to_user_id=1201085865587400706, in_reply_to_user_id_str='1201085865587400706', in_reply_to_screen_name='DrxRkSingh', author=User(_api=<tweepy.api.API object at 0x000001561F76E280>, _json={'id': 702796463642972160, 'id_str': '702796463642972160', 'name': 'UPPCL', 'screen_name': 'UPPCLLKO', 'location': 'Hazratganj, Lucknow', 'description': 'Welcome to Official Twitter Handle of Uttar Pradesh Power Corporation Ltd. (UPPCL) (A Govt. of UP Undertaking) 14 Ashok Marg  Hazratganj, Shakti Bhawan Lucknow.', 'url': 'https://t.co/ImoTc21SSg', 'entities': {'url': {'urls': [{'url': 'https://t.co/ImoTc21SSg', 'expanded_url': 'https://www.upenergy.in/uppcl', 'display_url': 'upenergy.in/uppcl', 'indices': [0, 23]}]}, 'description': {'urls': []}}, 'protected': False, 'followers_count': 134414, 'friends_count': 88, 'listed_count': 60, 'created_at': 'Thu Feb 25 10:05:09 +0000 2016', 'favourites_count': 3427, 'utc_offset': None, 'time_zone': None, 'geo_enabled': False, 'verified': True, 'statuses_count': 285023, 'lang': None, 'contributors_enabled': False, 'is_translator': False, 'is_translation_enabled': False, 'profile_background_color': '000000', 'profile_background_image_url': 'http://abs.twimg.com/images/themes/theme1/bg.png', 'profile_background_image_url_https': 'https://abs.twimg.com/images/themes/theme1/bg.png', 'profile_background_tile': False, 'profile_image_url': 'http://pbs.twimg.com/profile_images/706763223928705024/poULoVgG_normal.jpg', 'profile_image_url_https': 'https://pbs.twimg.com/profile_images/706763223928705024/poULoVgG_normal.jpg', 'profile_banner_url': 'https://pbs.twimg.com/profile_banners/702796463642972160/1484140234', 'profile_link_color': 'A72C25', 'profile_sidebar_border_color': '000000', 'profile_sidebar_fill_color': '000000', 'profile_text_color': '000000', 'profile_use_background_image': False, 'has_extended_profile': True, 'default_profile': False, 'default_profile_image': False, 'following': False, 'follow_request_sent': False, 'notifications': False, 'translator_type': 'none', 'withheld_in_countries': []}, id=702796463642972160, id_str='702796463642972160', name='UPPCL', screen_name='UPPCLLKO', location='Hazratganj, Lucknow', description='Welcome to Official Twitter Handle of Uttar Pradesh Power Corporation Ltd. (UPPCL) (A Govt. of UP Undertaking) 14 Ashok Marg  Hazratganj, Shakti Bhawan Lucknow.', url='https://t.co/ImoTc21SSg', entities={'url': {'urls': [{'url': 'https://t.co/ImoTc21SSg', 'expanded_url': 'https://www.upenergy.in/uppcl', 'display_url': 'upenergy.in/uppcl', 'indices': [0, 23]}]}, 'description': {'urls': []}}, protected=False, followers_count=134414, friends_count=88, listed_count=60, created_at=datetime.datetime(2016, 2, 25, 10, 5, 9), favourites_count=3427, utc_offset=None, time_zone=None, geo_enabled=False, verified=True, statuses_count=285023, lang=None, contributors_enabled=False, is_translator=False, is_translation_enabled=False, profile_background_color='000000', profile_background_image_url='http://abs.twimg.com/images/themes/theme1/bg.png', profile_background_image_url_https='https://abs.twimg.com/images/themes/theme1/bg.png', profile_background_tile=False, profile_image_url='http://pbs.twimg.com/profile_images/706763223928705024/poULoVgG_normal.jpg', profile_image_url_https='https://pbs.twimg.com/profile_images/706763223928705024/poULoVgG_normal.jpg', profile_banner_url='https://pbs.twimg.com/profile_banners/702796463642972160/1484140234', profile_link_color='A72C25', profile_sidebar_border_color='000000', profile_sidebar_fill_color='000000', profile_text_color='000000', profile_use_background_image=False, has_extended_profile=True, default_profile=False, default_profile_image=False, following=False, follow_request_sent=False, notifications=False, translator_type='none', withheld_in_countries=[]), user=User(_api=<tweepy.api.API object at 0x000001561F76E280>, _json={'id': 702796463642972160, 'id_str': '702796463642972160', 'name': 'UPPCL', 'screen_name': 'UPPCLLKO', 'location': 'Hazratganj, Lucknow', 'description': 'Welcome to Official Twitter Handle of Uttar Pradesh Power Corporation Ltd. (UPPCL) (A Govt. of UP Undertaking) 14 Ashok Marg  Hazratganj, Shakti Bhawan Lucknow.', 'url': 'https://t.co/ImoTc21SSg', 'entities': {'url': {'urls': [{'url': 'https://t.co/ImoTc21SSg', 'expanded_url': 'https://www.upenergy.in/uppcl', 'display_url': 'upenergy.in/uppcl', 'indices': [0, 23]}]}, 'description': {'urls': []}}, 'protected': False, 'followers_count': 134414, 'friends_count': 88, 'listed_count': 60, 'created_at': 'Thu Feb 25 10:05:09 +0000 2016', 'favourites_count': 3427, 'utc_offset': None, 'time_zone': None, 'geo_enabled': False, 'verified': True, 'statuses_count': 285023, 'lang': None, 'contributors_enabled': False, 'is_translator': False, 'is_translation_enabled': False, 'profile_background_color': '000000', 'profile_background_image_url': 'http://abs.twimg.com/images/themes/theme1/bg.png', 'profile_background_image_url_https': 'https://abs.twimg.com/images/themes/theme1/bg.png', 'profile_background_tile': False, 'profile_image_url': 'http://pbs.twimg.com/profile_images/706763223928705024/poULoVgG_normal.jpg', 'profile_image_url_https': 'https://pbs.twimg.com/profile_images/706763223928705024/poULoVgG_normal.jpg', 'profile_banner_url': 'https://pbs.twimg.com/profile_banners/702796463642972160/1484140234', 'profile_link_color': 'A72C25', 'profile_sidebar_border_color': '000000', 'profile_sidebar_fill_color': '000000', 'profile_text_color': '000000', 'profile_use_background_image': False, 'has_extended_profile': True, 'default_profile': False, 'default_profile_image': False, 'following': False, 'follow_request_sent': False, 'notifications': False, 'translator_type': 'none', 'withheld_in_countries': []}, id=702796463642972160, id_str='702796463642972160', name='UPPCL', screen_name='UPPCLLKO', location='Hazratganj, Lucknow', description='Welcome to Official Twitter Handle of Uttar Pradesh Power Corporation Ltd. (UPPCL) (A Govt. of UP Undertaking) 14 Ashok Marg  Hazratganj, Shakti Bhawan Lucknow.', url='https://t.co/ImoTc21SSg', entities={'url': {'urls': [{'url': 'https://t.co/ImoTc21SSg', 'expanded_url': 'https://www.upenergy.in/uppcl', 'display_url': 'upenergy.in/uppcl', 'indices': [0, 23]}]}, 'description': {'urls': []}}, protected=False, followers_count=134414, friends_count=88, listed_count=60, created_at=datetime.datetime(2016, 2, 25, 10, 5, 9), favourites_count=3427, utc_offset=None, time_zone=None, geo_enabled=False, verified=True, statuses_count=285023, lang=None, contributors_enabled=False, is_translator=False, is_translation_enabled=False, profile_background_color='000000', profile_background_image_url='http://abs.twimg.com/images/themes/theme1/bg.png', profile_background_image_url_https='https://abs.twimg.com/images/themes/theme1/bg.png', profile_background_tile=False, profile_image_url='http://pbs.twimg.com/profile_images/706763223928705024/poULoVgG_normal.jpg', profile_image_url_https='https://pbs.twimg.com/profile_images/706763223928705024/poULoVgG_normal.jpg', profile_banner_url='https://pbs.twimg.com/profile_banners/702796463642972160/1484140234', profile_link_color='A72C25', profile_sidebar_border_color='000000', profile_sidebar_fill_color='000000', profile_text_color='000000', profile_use_background_image=False, has_extended_profile=True, default_profile=False, default_profile_image=False, following=False, follow_request_sent=False, notifications=False, translator_type='none', withheld_in_countries=[]), geo=None, coordinates=None, place=None, contributors=None, is_quote_status=True, quoted_status_id=1446487487338086404, quoted_status_id_str='1446487487338086404', quoted_status=Status(_api=<tweepy.api.API object at 0x000001561F76E280>, _json={'created_at': 'Fri Oct 08 14:47:46 +0000 2021', 'id': 1446487487338086404, 'id_str': '1446487487338086404', 'text': '@UPPCLLKO @DrxRkSingh @ptshrikant @mvvnlbudaun @UppclChairman आपकी शिकायत संख्या MV0810213699 दर्ज कर आवश्यक कार्य… https://t.co/woqwILmFDm', 'truncated': True, 'entities': {'hashtags': [], 'symbols': [], 'user_mentions': [{'screen_name': 'UPPCLLKO', 'name': 'UPPCL', 'id': 702796463642972160, 'id_str': '702796463642972160', 'indices': [0, 9]}, {'screen_name': 'DrxRkSingh', 'name': 'Drx Rahul Kumar Singh', 'id': 1201085865587400706, 'id_str': '1201085865587400706', 'indices': [10, 21]}, {'screen_name': 'ptshrikant', 'name': 'Shrikant Sharma', 'id': 798135834, 'id_str': '798135834', 'indices': [22, 33]}, {'screen_name': 'mvvnlbudaun', 'name': 'MVVNL Budaun', 'id': 862978244689223680, 'id_str': '862978244689223680', 'indices': [34, 46]}, {'screen_name': 'UppclChairman', 'name': 'CMD UPPCL', 'id': 1243357281883803648, 'id_str': '1243357281883803648', 'indices': [47, 61]}], 'urls': [{'url': 'https://t.co/woqwILmFDm', 'expanded_url': 'https://twitter.com/i/web/status/1446487487338086404', 'display_url': 'twitter.com/i/web/status/1…', 'indices': [116, 139]}]}, 'source': '<a href=\"https://mobile.twitter.com\" rel=\"nofollow\">Twitter Web App</a>', 'in_reply_to_status_id': 1446485771326660614, 'in_reply_to_status_id_str': '1446485771326660614', 'in_reply_to_user_id': 702796463642972160, 'in_reply_to_user_id_str': '702796463642972160', 'in_reply_to_screen_name': 'UPPCLLKO', 'user': {'id': 753403115907473408, 'id_str': '753403115907473408', 'name': 'Madhyanchal Vidyut Vitran Nigam Limited', 'screen_name': 'MVVNLHQ', 'location': '4 A, Gokhale Marg, Lucknow', 'description': '@MVVNLHQ is the official twitter account of Madhyanchal Vidyut Vitran Nigam Ltd.(MVVNL) & Its Customer Care Center.', 'url': 'https://t.co/4Mh2ejntPk', 'entities': {'url': {'urls': [{'url': 'https://t.co/4Mh2ejntPk', 'expanded_url': 'https://www.mvvnl.in', 'display_url': 'mvvnl.in', 'indices': [0, 23]}]}, 'description': {'urls': []}}, 'protected': False, 'followers_count': 24856, 'friends_count': 109, 'listed_count': 16, 'created_at': 'Thu Jul 14 01:37:55 +0000 2016', 'favourites_count': 282, 'utc_offset': None, 'time_zone': None, 'geo_enabled': True, 'verified': False, 'statuses_count': 157601, 'lang': None, 'contributors_enabled': False, 'is_translator': False, 'is_translation_enabled': False, 'profile_background_color': 'F5F8FA', 'profile_background_image_url': None, 'profile_background_image_url_https': None, 'profile_background_tile': False, 'profile_image_url': 'http://pbs.twimg.com/profile_images/1344195774213545985/sNJWrMQN_normal.jpg', 'profile_image_url_https': 'https://pbs.twimg.com/profile_images/1344195774213545985/sNJWrMQN_normal.jpg', 'profile_banner_url': 'https://pbs.twimg.com/profile_banners/753403115907473408/1609316223', 'profile_link_color': '1DA1F2', 'profile_sidebar_border_color': 'C0DEED', 'profile_sidebar_fill_color': 'DDEEF6', 'profile_text_color': '333333', 'profile_use_background_image': True, 'has_extended_profile': False, 'default_profile': True, 'default_profile_image': False, 'following': False, 'follow_request_sent': False, 'notifications': False, 'translator_type': 'none', 'withheld_in_countries': []}, 'geo': None, 'coordinates': None, 'place': None, 'contributors': None, 'is_quote_status': False, 'retweet_count': 0, 'favorite_count': 0, 'favorited': False, 'retweeted': False, 'lang': 'hi'}, created_at=datetime.datetime(2021, 10, 8, 14, 47, 46), id=1446487487338086404, id_str='1446487487338086404', text='@UPPCLLKO @DrxRkSingh @ptshrikant @mvvnlbudaun @UppclChairman आपकी शिकायत संख्या MV0810213699 दर्ज कर आवश्यक कार्य… https://t.co/woqwILmFDm', truncated=True, entities={'hashtags': [], 'symbols': [], 'user_mentions': [{'screen_name': 'UPPCLLKO', 'name': 'UPPCL', 'id': 702796463642972160, 'id_str': '702796463642972160', 'indices': [0, 9]}, {'screen_name': 'DrxRkSingh', 'name': 'Drx Rahul Kumar Singh', 'id': 1201085865587400706, 'id_str': '1201085865587400706', 'indices': [10, 21]}, {'screen_name': 'ptshrikant', 'name': 'Shrikant Sharma', 'id': 798135834, 'id_str': '798135834', 'indices': [22, 33]}, {'screen_name': 'mvvnlbudaun', 'name': 'MVVNL Budaun', 'id': 862978244689223680, 'id_str': '862978244689223680', 'indices': [34, 46]}, {'screen_name': 'UppclChairman', 'name': 'CMD UPPCL', 'id': 1243357281883803648, 'id_str': '1243357281883803648', 'indices': [47, 61]}], 'urls': [{'url': 'https://t.co/woqwILmFDm', 'expanded_url': 'https://twitter.com/i/web/status/1446487487338086404', 'display_url': 'twitter.com/i/web/status/1…', 'indices': [116, 139]}]}, source='Twitter Web App', source_url='https://mobile.twitter.com', in_reply_to_status_id=1446485771326660614, in_reply_to_status_id_str='1446485771326660614', in_reply_to_user_id=702796463642972160, in_reply_to_user_id_str='702796463642972160', in_reply_to_screen_name='UPPCLLKO', author=User(_api=<tweepy.api.API object at 0x000001561F76E280>, _json={'id': 753403115907473408, 'id_str': '753403115907473408', 'name': 'Madhyanchal Vidyut Vitran Nigam Limited', 'screen_name': 'MVVNLHQ', 'location': '4 A, Gokhale Marg, Lucknow', 'description': '@MVVNLHQ is the official twitter account of Madhyanchal Vidyut Vitran Nigam Ltd.(MVVNL) & Its Customer Care Center.', 'url': 'https://t.co/4Mh2ejntPk', 'entities': {'url': {'urls': [{'url': 'https://t.co/4Mh2ejntPk', 'expanded_url': 'https://www.mvvnl.in', 'display_url': 'mvvnl.in', 'indices': [0, 23]}]}, 'description': {'urls': []}}, 'protected': False, 'followers_count': 24856, 'friends_count': 109, 'listed_count': 16, 'created_at': 'Thu Jul 14 01:37:55 +0000 2016', 'favourites_count': 282, 'utc_offset': None, 'time_zone': None, 'geo_enabled': True, 'verified': False, 'statuses_count': 157601, 'lang': None, 'contributors_enabled': False, 'is_translator': False, 'is_translation_enabled': False, 'profile_background_color': 'F5F8FA', 'profile_background_image_url': None, 'profile_background_image_url_https': None, 'profile_background_tile': False, 'profile_image_url': 'http://pbs.twimg.com/profile_images/1344195774213545985/sNJWrMQN_normal.jpg', 'profile_image_url_https': 'https://pbs.twimg.com/profile_images/1344195774213545985/sNJWrMQN_normal.jpg', 'profile_banner_url': 'https://pbs.twimg.com/profile_banners/753403115907473408/1609316223', 'profile_link_color': '1DA1F2', 'profile_sidebar_border_color': 'C0DEED', 'profile_sidebar_fill_color': 'DDEEF6', 'profile_text_color': '333333', 'profile_use_background_image': True, 'has_extended_profile': False, 'default_profile': True, 'default_profile_image': False, 'following': False, 'follow_request_sent': False, 'notifications': False, 'translator_type': 'none', 'withheld_in_countries': []}, id=753403115907473408, id_str='753403115907473408', name='Madhyanchal Vidyut Vitran Nigam Limited', screen_name='MVVNLHQ', location='4 A, Gokhale Marg, Lucknow', description='@MVVNLHQ is the official twitter account of Madhyanchal Vidyut Vitran Nigam Ltd.(MVVNL) & Its Customer Care Center.', url='https://t.co/4Mh2ejntPk', entities={'url': {'urls': [{'url': 'https://t.co/4Mh2ejntPk', 'expanded_url': 'https://www.mvvnl.in', 'display_url': 'mvvnl.in', 'indices': [0, 23]}]}, 'description': {'urls': []}}, protected=False, followers_count=24856, friends_count=109, listed_count=16, created_at=datetime.datetime(2016, 7, 14, 1, 37, 55), favourites_count=282, utc_offset=None, time_zone=None, geo_enabled=True, verified=False, statuses_count=157601, lang=None, contributors_enabled=False, is_translator=False, is_translation_enabled=False, profile_background_color='F5F8FA', profile_background_image_url=None, profile_background_image_url_https=None, profile_background_tile=False, profile_image_url='http://pbs.twimg.com/profile_images/1344195774213545985/sNJWrMQN_normal.jpg', profile_image_url_https='https://pbs.twimg.com/profile_images/1344195774213545985/sNJWrMQN_normal.jpg', profile_banner_url='https://pbs.twimg.com/profile_banners/753403115907473408/1609316223', profile_link_color='1DA1F2', profile_sidebar_border_color='C0DEED', profile_sidebar_fill_color='DDEEF6', profile_text_color='333333', profile_use_background_image=True, has_extended_profile=False, default_profile=True, default_profile_image=False, following=False, follow_request_sent=False, notifications=False, translator_type='none', withheld_in_countries=[]), user=User(_api=<tweepy.api.API object at 0x000001561F76E280>, _json={'id': 753403115907473408, 'id_str': '753403115907473408', 'name': 'Madhyanchal Vidyut Vitran Nigam Limited', 'screen_name': 'MVVNLHQ', 'location': '4 A, Gokhale Marg, Lucknow', 'description': '@MVVNLHQ is the official twitter account of Madhyanchal Vidyut Vitran Nigam Ltd.(MVVNL) & Its Customer Care Center.', 'url': 'https://t.co/4Mh2ejntPk', 'entities': {'url': {'urls': [{'url': 'https://t.co/4Mh2ejntPk', 'expanded_url': 'https://www.mvvnl.in', 'display_url': 'mvvnl.in', 'indices': [0, 23]}]}, 'description': {'urls': []}}, 'protected': False, 'followers_count': 24856, 'friends_count': 109, 'listed_count': 16, 'created_at': 'Thu Jul 14 01:37:55 +0000 2016', 'favourites_count': 282, 'utc_offset': None, 'time_zone': None, 'geo_enabled': True, 'verified': False, 'statuses_count': 157601, 'lang': None, 'contributors_enabled': False, 'is_translator': False, 'is_translation_enabled': False, 'profile_background_color': 'F5F8FA', 'profile_background_image_url': None, 'profile_background_image_url_https': None, 'profile_background_tile': False, 'profile_image_url': 'http://pbs.twimg.com/profile_images/1344195774213545985/sNJWrMQN_normal.jpg', 'profile_image_url_https': 'https://pbs.twimg.com/profile_images/1344195774213545985/sNJWrMQN_normal.jpg', 'profile_banner_url': 'https://pbs.twimg.com/profile_banners/753403115907473408/1609316223', 'profile_link_color': '1DA1F2', 'profile_sidebar_border_color': 'C0DEED', 'profile_sidebar_fill_color': 'DDEEF6', 'profile_text_color': '333333', 'profile_use_background_image': True, 'has_extended_profile': False, 'default_profile': True, 'default_profile_image': False, 'following': False, 'follow_request_sent': False, 'notifications': False, 'translator_type': 'none', 'withheld_in_countries': []}, id=753403115907473408, id_str='753403115907473408', name='Madhyanchal Vidyut Vitran Nigam Limited', screen_name='MVVNLHQ', location='4 A, Gokhale Marg, Lucknow', description='@MVVNLHQ is the official twitter account of Madhyanchal Vidyut Vitran Nigam Ltd.(MVVNL) & Its Customer Care Center.', url='https://t.co/4Mh2ejntPk', entities={'url': {'urls': [{'url': 'https://t.co/4Mh2ejntPk', 'expanded_url': 'https://www.mvvnl.in', 'display_url': 'mvvnl.in', 'indices': [0, 23]}]}, 'description': {'urls': []}}, protected=False, followers_count=24856, friends_count=109, listed_count=16, created_at=datetime.datetime(2016, 7, 14, 1, 37, 55), favourites_count=282, utc_offset=None, time_zone=None, geo_enabled=True, verified=False, statuses_count=157601, lang=None, contributors_enabled=False, is_translator=False, is_translation_enabled=False, profile_background_color='F5F8FA', profile_background_image_url=None, profile_background_image_url_https=None, profile_background_tile=False, profile_image_url='http://pbs.twimg.com/profile_images/1344195774213545985/sNJWrMQN_normal.jpg', profile_image_url_https='https://pbs.twimg.com/profile_images/1344195774213545985/sNJWrMQN_normal.jpg', profile_banner_url='https://pbs.twimg.com/profile_banners/753403115907473408/1609316223', profile_link_color='1DA1F2', profile_sidebar_border_color='C0DEED', profile_sidebar_fill_color='DDEEF6', profile_text_color='333333', profile_use_background_image=True, has_extended_profile=False, default_profile=True, default_profile_image=False, following=False, follow_request_sent=False, notifications=False, translator_type='none', withheld_in_countries=[]), geo=None, coordinates=None, place=None, contributors=None, is_quote_status=False, retweet_count=0, favorite_count=0, favorited=False, retweeted=False, lang='hi'), retweet_count=0, favorite_count=0, favorited=False, retweeted=False, possibly_sensitive=False, lang='und')\n"
     ]
    }
   ],
   "source": [
    "import tweepy\n",
    "import webbrowser\n",
    "import time\n",
    "import pandas as pd\n",
    "\n",
    "consumer_key = 'h1FMGukUb2opdWyp6e5h4wXsJ'\n",
    "consumer_secret = 'Bd3604rdoBGdsVdBL6fubOpyYL44L0uJNpBp5D63IOe5k4h6Rg'\n",
    "access_token = '359263757-cULZ2ajnBbST0hKg34oWkSKfyw5WHr3t0hAD1ghZ'\n",
    "access_token_secret = 'vsmYdUvfGISnwpjftR2R0haRyV7SGPHTUsCVxoRirh4Mj'\n",
    "\n",
    "auth = tweepy.OAuthHandler(consumer_key,consumer_secret)\n",
    "auth.set_access_token(access_token,access_token_secret)\n",
    "\n",
    "api = tweepy.API(auth)\n",
    "\n",
    "def extract_discom_data(area_list):\n",
    "    for area in area_list:\n",
    "        try:\n",
    "            tweet = api.user_timeline(area)[0]\n",
    "        except:\n",
    "            print(area)\n",
    "    return tweet\n",
    "\n",
    "df = pd.read_excel(\"./twitterhandles.xlsx\",sheet_name=\"test\")\n",
    "result = extract_discom_data(df['handles'].tolist())\n",
    "print(result)"
   ]
  },
  {
   "cell_type": "code",
   "execution_count": 5,
   "metadata": {},
   "outputs": [
    {
     "name": "stdout",
     "output_type": "stream",
     "text": [
      "199\n"
     ]
    }
   ],
   "source": [
    "import tweepy\n",
    "import webbrowser\n",
    "import time\n",
    "import pandas as pd\n",
    "\n",
    "consumer_key = 'h1FMGukUb2opdWyp6e5h4wXsJ'\n",
    "consumer_secret = 'Bd3604rdoBGdsVdBL6fubOpyYL44L0uJNpBp5D63IOe5k4h6Rg'\n",
    "access_token = '359263757-cULZ2ajnBbST0hKg34oWkSKfyw5WHr3t0hAD1ghZ'\n",
    "access_token_secret = 'vsmYdUvfGISnwpjftR2R0haRyV7SGPHTUsCVxoRirh4Mj'\n",
    "\n",
    "auth = tweepy.OAuthHandler(consumer_key,consumer_secret)\n",
    "auth.set_access_token(access_token,access_token_secret)\n",
    "data = []\n",
    "columns_headers = ['TWEETS']\n",
    "api = tweepy.API(auth)\n",
    "# user_tweet = api.user_timeline('uppcllko', since_id='1541489427943264257' , count=200, exclude_replies=True, include_rts=False)\n",
    "user_tweetAndReply = api.user_timeline('uppcllko', since_id='1541489427943264257' , count=200, exclude_replies=False, include_rts=False)\n",
    "\n",
    "# print(len(user_tweet))\n",
    "print(len(user_tweetAndReply))\n",
    "\n",
    "# for tweet in user_tweet:\n",
    "#     single_tweet = {'TWEETS':tweet.text}\n",
    "#     data.append(single_tweet)\n",
    "\n",
    "# result = pd.DataFrame(data, columns=columns_headers)\n",
    "# result.to_excel(r\"C:\\Users\\DELL\\Desktop\\Dev\\result_tweet_details.xlsx\")"
   ]
  },
  {
   "cell_type": "code",
   "execution_count": null,
   "metadata": {},
   "outputs": [],
   "source": []
  }
 ],
 "metadata": {
  "kernelspec": {
   "display_name": "Python 3",
   "language": "python",
   "name": "python3"
  },
  "language_info": {
   "codemirror_mode": {
    "name": "ipython",
    "version": 3
   },
   "file_extension": ".py",
   "mimetype": "text/x-python",
   "name": "python",
   "nbconvert_exporter": "python",
   "pygments_lexer": "ipython3",
   "version": "3.8.6"
  }
 },
 "nbformat": 4,
 "nbformat_minor": 4
}
