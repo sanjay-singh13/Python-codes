{
 "cells": [
  {
   "cell_type": "code",
   "execution_count": 1,
   "metadata": {},
   "outputs": [],
   "source": [
    "import tweepy\n",
    "import webbrowser\n",
    "import time"
   ]
  },
  {
   "cell_type": "code",
   "execution_count": 13,
   "metadata": {},
   "outputs": [],
   "source": [
    "consumer_key = 'h1FMGukUb2opdWyp6e5h4wXsJ'\n",
    "consumer_secret = 'Bd3604rdoBGdsVdBL6fubOpyYL44L0uJNpBp5D63IOe5k4h6Rg'"
   ]
  },
  {
   "cell_type": "code",
   "execution_count": 14,
   "metadata": {},
   "outputs": [],
   "source": [
    "callback_uri = 'oob'"
   ]
  },
  {
   "cell_type": "code",
   "execution_count": 15,
   "metadata": {},
   "outputs": [],
   "source": [
    "auth = tweepy.OAuthHandler(consumer_key,consumer_secret,callback_uri)"
   ]
  },
  {
   "cell_type": "code",
   "execution_count": 16,
   "metadata": {},
   "outputs": [],
   "source": [
    "redirect_url = auth.get_authorization_url()"
   ]
  },
  {
   "cell_type": "code",
   "execution_count": 17,
   "metadata": {},
   "outputs": [
    {
     "name": "stdout",
     "output_type": "stream",
     "text": [
      "https://api.twitter.com/oauth/authorize?oauth_token=HE0jVgAAAAABFPf5AAABdabNPqY\n"
     ]
    }
   ],
   "source": [
    "print(redirect_url)"
   ]
  },
  {
   "cell_type": "code",
   "execution_count": 18,
   "metadata": {},
   "outputs": [
    {
     "data": {
      "text/plain": [
       "True"
      ]
     },
     "execution_count": 18,
     "metadata": {},
     "output_type": "execute_result"
    }
   ],
   "source": [
    "webbrowser.open(redirect_url)"
   ]
  },
  {
   "cell_type": "code",
   "execution_count": 19,
   "metadata": {},
   "outputs": [
    {
     "name": "stdout",
     "output_type": "stream",
     "text": [
      "What is your pin ?3668724\n"
     ]
    }
   ],
   "source": [
    "user_pin_input = input(\"What is your pin ?\")"
   ]
  },
  {
   "cell_type": "code",
   "execution_count": 20,
   "metadata": {},
   "outputs": [
    {
     "data": {
      "text/plain": [
       "'3668724'"
      ]
     },
     "execution_count": 20,
     "metadata": {},
     "output_type": "execute_result"
    }
   ],
   "source": [
    "user_pin_input"
   ]
  },
  {
   "cell_type": "code",
   "execution_count": 21,
   "metadata": {},
   "outputs": [
    {
     "data": {
      "text/plain": [
       "('359263757-80cFdRPELOWd659u6G6wrCnDnioX3e9fFYJUWbcH',\n",
       " 'elyoFB2sAi8c3plOV19CeXgVS5yXcag0DYJtrcupceUZq')"
      ]
     },
     "execution_count": 21,
     "metadata": {},
     "output_type": "execute_result"
    }
   ],
   "source": [
    "auth.get_access_token(user_pin_input)"
   ]
  },
  {
   "cell_type": "code",
   "execution_count": 22,
   "metadata": {},
   "outputs": [],
   "source": [
    "api = tweepy.API(auth)"
   ]
  },
  {
   "cell_type": "code",
   "execution_count": 23,
   "metadata": {},
   "outputs": [],
   "source": [
    "me = api.me()"
   ]
  },
  {
   "cell_type": "code",
   "execution_count": 25,
   "metadata": {},
   "outputs": [
    {
     "name": "stdout",
     "output_type": "stream",
     "text": [
      "User(_api=<tweepy.api.API object at 0x00F2FB30>, _json={'id': 359263757, 'id_str': '359263757', 'name': 'Sanjay singh', 'screen_name': 'Sanjaygrt07', 'location': 'Lucknow', 'profile_location': None, 'description': '', 'url': None, 'entities': {'description': {'urls': []}}, 'protected': False, 'followers_count': 10, 'friends_count': 43, 'listed_count': 0, 'created_at': 'Sun Aug 21 08:40:07 +0000 2011', 'favourites_count': 39, 'utc_offset': None, 'time_zone': None, 'geo_enabled': False, 'verified': False, 'statuses_count': 34, 'lang': None, 'status': {'created_at': 'Sun Oct 04 06:10:13 +0000 2020', 'id': 1312636119964512256, 'id_str': '1312636119964512256', 'text': '#savepowersectorindia\\n#savePuVVNL @narendramodi @myogiadityanath @RajKSinghIndia @CMOfficeUP @ChiefSecyUP\\nUPPCL mgm… https://t.co/T09vAisiqA', 'truncated': True, 'entities': {'hashtags': [{'text': 'savepowersectorindia', 'indices': [0, 21]}, {'text': 'savePuVVNL', 'indices': [22, 33]}], 'symbols': [], 'user_mentions': [{'screen_name': 'narendramodi', 'name': 'Narendra Modi', 'id': 18839785, 'id_str': '18839785', 'indices': [34, 47]}, {'screen_name': 'myogiadityanath', 'name': 'Yogi Adityanath', 'id': 3437532637, 'id_str': '3437532637', 'indices': [48, 64]}, {'screen_name': 'RajKSinghIndia', 'name': 'R. K. Singh', 'id': 905771521305526272, 'id_str': '905771521305526272', 'indices': [65, 80]}, {'screen_name': 'CMOfficeUP', 'name': 'CM Office, GoUP', 'id': 2587240482, 'id_str': '2587240482', 'indices': [81, 92]}, {'screen_name': 'ChiefSecyUP', 'name': 'Chief Secretary,GoUP', 'id': 2587265450, 'id_str': '2587265450', 'indices': [93, 105]}], 'urls': [{'url': 'https://t.co/T09vAisiqA', 'expanded_url': 'https://twitter.com/i/web/status/1312636119964512256', 'display_url': 'twitter.com/i/web/status/1…', 'indices': [117, 140]}]}, 'source': '<a href=\"http://twitter.com/download/android\" rel=\"nofollow\">Twitter for Android</a>', 'in_reply_to_status_id': None, 'in_reply_to_status_id_str': None, 'in_reply_to_user_id': None, 'in_reply_to_user_id_str': None, 'in_reply_to_screen_name': None, 'geo': None, 'coordinates': None, 'place': None, 'contributors': None, 'is_quote_status': False, 'retweet_count': 4, 'favorite_count': 2, 'favorited': False, 'retweeted': False, 'lang': 'en'}, 'contributors_enabled': False, 'is_translator': False, 'is_translation_enabled': False, 'profile_background_color': 'C0DEED', 'profile_background_image_url': 'http://abs.twimg.com/images/themes/theme1/bg.png', 'profile_background_image_url_https': 'https://abs.twimg.com/images/themes/theme1/bg.png', 'profile_background_tile': False, 'profile_image_url': 'http://pbs.twimg.com/profile_images/1304309894649053186/o-vo1ia5_normal.jpg', 'profile_image_url_https': 'https://pbs.twimg.com/profile_images/1304309894649053186/o-vo1ia5_normal.jpg', 'profile_link_color': '473A21', 'profile_sidebar_border_color': 'C0DEED', 'profile_sidebar_fill_color': 'DDEEF6', 'profile_text_color': '333333', 'profile_use_background_image': True, 'has_extended_profile': True, 'default_profile': False, 'default_profile_image': False, 'following': False, 'follow_request_sent': False, 'notifications': False, 'translator_type': 'none', 'suspended': False, 'needs_phone_verification': False}, id=359263757, id_str='359263757', name='Sanjay singh', screen_name='Sanjaygrt07', location='Lucknow', profile_location=None, description='', url=None, entities={'description': {'urls': []}}, protected=False, followers_count=10, friends_count=43, listed_count=0, created_at=datetime.datetime(2011, 8, 21, 8, 40, 7), favourites_count=39, utc_offset=None, time_zone=None, geo_enabled=False, verified=False, statuses_count=34, lang=None, status=Status(_api=<tweepy.api.API object at 0x00F2FB30>, _json={'created_at': 'Sun Oct 04 06:10:13 +0000 2020', 'id': 1312636119964512256, 'id_str': '1312636119964512256', 'text': '#savepowersectorindia\\n#savePuVVNL @narendramodi @myogiadityanath @RajKSinghIndia @CMOfficeUP @ChiefSecyUP\\nUPPCL mgm… https://t.co/T09vAisiqA', 'truncated': True, 'entities': {'hashtags': [{'text': 'savepowersectorindia', 'indices': [0, 21]}, {'text': 'savePuVVNL', 'indices': [22, 33]}], 'symbols': [], 'user_mentions': [{'screen_name': 'narendramodi', 'name': 'Narendra Modi', 'id': 18839785, 'id_str': '18839785', 'indices': [34, 47]}, {'screen_name': 'myogiadityanath', 'name': 'Yogi Adityanath', 'id': 3437532637, 'id_str': '3437532637', 'indices': [48, 64]}, {'screen_name': 'RajKSinghIndia', 'name': 'R. K. Singh', 'id': 905771521305526272, 'id_str': '905771521305526272', 'indices': [65, 80]}, {'screen_name': 'CMOfficeUP', 'name': 'CM Office, GoUP', 'id': 2587240482, 'id_str': '2587240482', 'indices': [81, 92]}, {'screen_name': 'ChiefSecyUP', 'name': 'Chief Secretary,GoUP', 'id': 2587265450, 'id_str': '2587265450', 'indices': [93, 105]}], 'urls': [{'url': 'https://t.co/T09vAisiqA', 'expanded_url': 'https://twitter.com/i/web/status/1312636119964512256', 'display_url': 'twitter.com/i/web/status/1…', 'indices': [117, 140]}]}, 'source': '<a href=\"http://twitter.com/download/android\" rel=\"nofollow\">Twitter for Android</a>', 'in_reply_to_status_id': None, 'in_reply_to_status_id_str': None, 'in_reply_to_user_id': None, 'in_reply_to_user_id_str': None, 'in_reply_to_screen_name': None, 'geo': None, 'coordinates': None, 'place': None, 'contributors': None, 'is_quote_status': False, 'retweet_count': 4, 'favorite_count': 2, 'favorited': False, 'retweeted': False, 'lang': 'en'}, created_at=datetime.datetime(2020, 10, 4, 6, 10, 13), id=1312636119964512256, id_str='1312636119964512256', text='#savepowersectorindia\\n#savePuVVNL @narendramodi @myogiadityanath @RajKSinghIndia @CMOfficeUP @ChiefSecyUP\\nUPPCL mgm… https://t.co/T09vAisiqA', truncated=True, entities={'hashtags': [{'text': 'savepowersectorindia', 'indices': [0, 21]}, {'text': 'savePuVVNL', 'indices': [22, 33]}], 'symbols': [], 'user_mentions': [{'screen_name': 'narendramodi', 'name': 'Narendra Modi', 'id': 18839785, 'id_str': '18839785', 'indices': [34, 47]}, {'screen_name': 'myogiadityanath', 'name': 'Yogi Adityanath', 'id': 3437532637, 'id_str': '3437532637', 'indices': [48, 64]}, {'screen_name': 'RajKSinghIndia', 'name': 'R. K. Singh', 'id': 905771521305526272, 'id_str': '905771521305526272', 'indices': [65, 80]}, {'screen_name': 'CMOfficeUP', 'name': 'CM Office, GoUP', 'id': 2587240482, 'id_str': '2587240482', 'indices': [81, 92]}, {'screen_name': 'ChiefSecyUP', 'name': 'Chief Secretary,GoUP', 'id': 2587265450, 'id_str': '2587265450', 'indices': [93, 105]}], 'urls': [{'url': 'https://t.co/T09vAisiqA', 'expanded_url': 'https://twitter.com/i/web/status/1312636119964512256', 'display_url': 'twitter.com/i/web/status/1…', 'indices': [117, 140]}]}, source='Twitter for Android', source_url='http://twitter.com/download/android', in_reply_to_status_id=None, in_reply_to_status_id_str=None, in_reply_to_user_id=None, in_reply_to_user_id_str=None, in_reply_to_screen_name=None, geo=None, coordinates=None, place=None, contributors=None, is_quote_status=False, retweet_count=4, favorite_count=2, favorited=False, retweeted=False, lang='en'), contributors_enabled=False, is_translator=False, is_translation_enabled=False, profile_background_color='C0DEED', profile_background_image_url='http://abs.twimg.com/images/themes/theme1/bg.png', profile_background_image_url_https='https://abs.twimg.com/images/themes/theme1/bg.png', profile_background_tile=False, profile_image_url='http://pbs.twimg.com/profile_images/1304309894649053186/o-vo1ia5_normal.jpg', profile_image_url_https='https://pbs.twimg.com/profile_images/1304309894649053186/o-vo1ia5_normal.jpg', profile_link_color='473A21', profile_sidebar_border_color='C0DEED', profile_sidebar_fill_color='DDEEF6', profile_text_color='333333', profile_use_background_image=True, has_extended_profile=True, default_profile=False, default_profile_image=False, following=False, follow_request_sent=False, notifications=False, translator_type='none', suspended=False, needs_phone_verification=False)\n"
     ]
    }
   ],
   "source": [
    "print(me)"
   ]
  },
  {
   "cell_type": "code",
   "execution_count": 26,
   "metadata": {},
   "outputs": [
    {
     "name": "stdout",
     "output_type": "stream",
     "text": [
      "Sanjaygrt07\n"
     ]
    }
   ],
   "source": [
    "print(me.screen_name)"
   ]
  },
  {
   "cell_type": "code",
   "execution_count": 27,
   "metadata": {},
   "outputs": [
    {
     "name": "stdout",
     "output_type": "stream",
     "text": [
      "Sanjay singh\n"
     ]
    }
   ],
   "source": [
    "print(me.name)"
   ]
  },
  {
   "cell_type": "code",
   "execution_count": 28,
   "metadata": {},
   "outputs": [
    {
     "name": "stdout",
     "output_type": "stream",
     "text": [
      "10\n"
     ]
    }
   ],
   "source": [
    "print(me.followers_count)"
   ]
  },
  {
   "cell_type": "code",
   "execution_count": 29,
   "metadata": {},
   "outputs": [
    {
     "name": "stdout",
     "output_type": "stream",
     "text": [
      "34\n"
     ]
    }
   ],
   "source": [
    "number_of_tweets = me.statuses_count\n",
    "print(number_of_tweets)"
   ]
  },
  {
   "cell_type": "code",
   "execution_count": null,
   "metadata": {},
   "outputs": [],
   "source": []
  }
 ],
 "metadata": {
  "kernelspec": {
   "display_name": "Python 3",
   "language": "python",
   "name": "python3"
  },
  "language_info": {
   "codemirror_mode": {
    "name": "ipython",
    "version": 3
   },
   "file_extension": ".py",
   "mimetype": "text/x-python",
   "name": "python",
   "nbconvert_exporter": "python",
   "pygments_lexer": "ipython3",
   "version": "3.7.3"
  }
 },
 "nbformat": 4,
 "nbformat_minor": 2
}
