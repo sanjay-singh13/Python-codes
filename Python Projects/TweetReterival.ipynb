{
 "cells": [
  {
   "cell_type": "code",
   "execution_count": 79,
   "metadata": {},
   "outputs": [
    {
     "name": "stdout",
     "output_type": "stream",
     "text": [
      "What is your pin ?8737496\n"
     ]
    }
   ],
   "source": [
    "import tweepy\n",
    "import webbrowser\n",
    "import time\n",
    "import pandas as pd\n",
    "\n",
    "consumer_key = 'h1FMGukUb2opdWyp6e5h4wXsJ'\n",
    "consumer_secret = 'Bd3604rdoBGdsVdBL6fubOpyYL44L0uJNpBp5D63IOe5k4h6Rg'\n",
    "callback_uri = 'oob'\n",
    "auth = tweepy.OAuthHandler(consumer_key,consumer_secret,callback_uri)\n",
    "redirect_url = auth.get_authorization_url()\n",
    "webbrowser.open(redirect_url)\n",
    "user_pin_input = input(\"What is your pin ?\")"
   ]
  },
  {
   "cell_type": "code",
   "execution_count": 80,
   "metadata": {},
   "outputs": [],
   "source": [
    "token = auth.get_access_token(user_pin_input)\n",
    "api = tweepy.API(auth)\n",
    "\n",
    "handle_list = list(pd.read_excel(\"./twitterhandles.xlsx\",sheet_name=\"management\")['handles'])"
   ]
  },
  {
   "cell_type": "code",
   "execution_count": 81,
   "metadata": {},
   "outputs": [],
   "source": [
    "def extract_discom_data(area_list):\n",
    "    uppcl_data = []\n",
    "    columns_headers = ['USER OR HANDLE','NAME','FOLLOWERS','TWEETS']\n",
    "    for area in area_list:\n",
    "        try:\n",
    "            user = api.get_user(area)\n",
    "        except:\n",
    "            print(area)\n",
    "        single_area_data = {'USER OR HANDLE': user.screen_name,'NAME':user.name,'FOLLOWERS':user.followers_count,'TWEETS':user.statuses_count}\n",
    "    #     print(\"{} has followers {}\".format(discom,user.followers_count))\n",
    "        uppcl_data.append(single_area_data)\n",
    "\n",
    "    data = pd.DataFrame(uppcl_data,columns=columns_headers)\n",
    "    return data\n"
   ]
  },
  {
   "cell_type": "code",
   "execution_count": 82,
   "metadata": {},
   "outputs": [
    {
     "data": {
      "text/html": [
       "<div>\n",
       "<style scoped>\n",
       "    .dataframe tbody tr th:only-of-type {\n",
       "        vertical-align: middle;\n",
       "    }\n",
       "\n",
       "    .dataframe tbody tr th {\n",
       "        vertical-align: top;\n",
       "    }\n",
       "\n",
       "    .dataframe thead th {\n",
       "        text-align: right;\n",
       "    }\n",
       "</style>\n",
       "<table border=\"1\" class=\"dataframe\">\n",
       "  <thead>\n",
       "    <tr style=\"text-align: right;\">\n",
       "      <th></th>\n",
       "      <th>USER OR HANDLE</th>\n",
       "      <th>NAME</th>\n",
       "      <th>FOLLOWERS</th>\n",
       "      <th>TWEETS</th>\n",
       "    </tr>\n",
       "  </thead>\n",
       "  <tbody>\n",
       "    <tr>\n",
       "      <th>0</th>\n",
       "      <td>ptshrikant</td>\n",
       "      <td>Shrikant Sharma</td>\n",
       "      <td>1304679</td>\n",
       "      <td>43490</td>\n",
       "    </tr>\n",
       "    <tr>\n",
       "      <th>1</th>\n",
       "      <td>EMofficeUP</td>\n",
       "      <td>Energy Minister Office UP</td>\n",
       "      <td>93547</td>\n",
       "      <td>23377</td>\n",
       "    </tr>\n",
       "    <tr>\n",
       "      <th>2</th>\n",
       "      <td>UppclChairman</td>\n",
       "      <td>Chairman UPPCL &amp; ACS Energy &amp; RE</td>\n",
       "      <td>16498</td>\n",
       "      <td>1598</td>\n",
       "    </tr>\n",
       "    <tr>\n",
       "      <th>3</th>\n",
       "      <td>mduppcl</td>\n",
       "      <td>MDUPPCL</td>\n",
       "      <td>17760</td>\n",
       "      <td>2031</td>\n",
       "    </tr>\n",
       "    <tr>\n",
       "      <th>4</th>\n",
       "      <td>UPPCLLKO</td>\n",
       "      <td>UPPCL</td>\n",
       "      <td>74493</td>\n",
       "      <td>127426</td>\n",
       "    </tr>\n",
       "    <tr>\n",
       "      <th>5</th>\n",
       "      <td>DVVNLMD</td>\n",
       "      <td>MD DVVNL AGRA, SAUMYA AGARWAL IAS</td>\n",
       "      <td>12068</td>\n",
       "      <td>9116</td>\n",
       "    </tr>\n",
       "    <tr>\n",
       "      <th>6</th>\n",
       "      <td>MVVNLmd</td>\n",
       "      <td>MVVNL</td>\n",
       "      <td>10421</td>\n",
       "      <td>1232</td>\n",
       "    </tr>\n",
       "    <tr>\n",
       "      <th>7</th>\n",
       "      <td>PuvvnlMd</td>\n",
       "      <td>@MD_PuVVNL</td>\n",
       "      <td>510</td>\n",
       "      <td>0</td>\n",
       "    </tr>\n",
       "    <tr>\n",
       "      <th>8</th>\n",
       "      <td>MdPvvnl</td>\n",
       "      <td>PVVNL HQ</td>\n",
       "      <td>16766</td>\n",
       "      <td>8216</td>\n",
       "    </tr>\n",
       "  </tbody>\n",
       "</table>\n",
       "</div>"
      ],
      "text/plain": [
       "  USER OR HANDLE                               NAME  FOLLOWERS  TWEETS\n",
       "0     ptshrikant                    Shrikant Sharma    1304679   43490\n",
       "1     EMofficeUP          Energy Minister Office UP      93547   23377\n",
       "2  UppclChairman   Chairman UPPCL & ACS Energy & RE      16498    1598\n",
       "3        mduppcl                            MDUPPCL      17760    2031\n",
       "4       UPPCLLKO                              UPPCL      74493  127426\n",
       "5        DVVNLMD  MD DVVNL AGRA, SAUMYA AGARWAL IAS      12068    9116\n",
       "6        MVVNLmd                              MVVNL      10421    1232\n",
       "7       PuvvnlMd                         @MD_PuVVNL        510       0\n",
       "8        MdPvvnl                           PVVNL HQ      16766    8216"
      ]
     },
     "execution_count": 82,
     "metadata": {},
     "output_type": "execute_result"
    }
   ],
   "source": [
    "extract_discom_data(handle_list)"
   ]
  },
  {
   "cell_type": "code",
   "execution_count": 90,
   "metadata": {},
   "outputs": [
    {
     "data": {
      "text/plain": [
       "Status(_api=<tweepy.api.API object at 0x0000029E5298D7F0>, _json={'created_at': 'Thu Jan 14 11:50:56 +0000 2021', 'id': 1349685426336854018, 'id_str': '1349685426336854018', 'text': 'छोटे किसानों को कर्ज के बंधन में बंधक बनाकर रखने वाले किसान विरोधी दल और उनके समर्थक श्री @narendramodi सरकार के का… https://t.co/zon9ylxlT6', 'truncated': True, 'entities': {'hashtags': [], 'symbols': [], 'user_mentions': [{'screen_name': 'narendramodi', 'name': 'Narendra Modi', 'id': 18839785, 'id_str': '18839785', 'indices': [90, 103]}], 'urls': [{'url': 'https://t.co/zon9ylxlT6', 'expanded_url': 'https://twitter.com/i/web/status/1349685426336854018', 'display_url': 'twitter.com/i/web/status/1…', 'indices': [117, 140]}]}, 'source': '<a href=\"http://twitter.com/download/android\" rel=\"nofollow\">Twitter for Android</a>', 'in_reply_to_status_id': None, 'in_reply_to_status_id_str': None, 'in_reply_to_user_id': None, 'in_reply_to_user_id_str': None, 'in_reply_to_screen_name': None, 'user': {'id': 798135834, 'id_str': '798135834', 'name': 'Shrikant Sharma', 'screen_name': 'ptshrikant', 'location': 'Lucknow, India', 'description': 'ऊर्जा एवं अतिरिक्त ऊर्जा स्रोत मंत्री, उत्तर प्रदेश सरकार', 'url': 'https://t.co/K8QBmgiva3', 'entities': {'url': {'urls': [{'url': 'https://t.co/K8QBmgiva3', 'expanded_url': 'http://www.shrikantsharma.in', 'display_url': 'shrikantsharma.in', 'indices': [0, 23]}]}, 'description': {'urls': []}}, 'protected': False, 'followers_count': 1304686, 'friends_count': 534, 'listed_count': 282, 'created_at': 'Sun Sep 02 12:11:12 +0000 2012', 'favourites_count': 6480, 'utc_offset': None, 'time_zone': None, 'geo_enabled': True, 'verified': True, 'statuses_count': 43490, 'lang': None, 'contributors_enabled': False, 'is_translator': False, 'is_translation_enabled': False, 'profile_background_color': '000000', 'profile_background_image_url': 'http://abs.twimg.com/images/themes/theme1/bg.png', 'profile_background_image_url_https': 'https://abs.twimg.com/images/themes/theme1/bg.png', 'profile_background_tile': False, 'profile_image_url': 'http://pbs.twimg.com/profile_images/1346448320554618880/QdUTUyP7_normal.jpg', 'profile_image_url_https': 'https://pbs.twimg.com/profile_images/1346448320554618880/QdUTUyP7_normal.jpg', 'profile_banner_url': 'https://pbs.twimg.com/profile_banners/798135834/1609240077', 'profile_link_color': 'FA743E', 'profile_sidebar_border_color': '000000', 'profile_sidebar_fill_color': '000000', 'profile_text_color': '000000', 'profile_use_background_image': False, 'has_extended_profile': True, 'default_profile': False, 'default_profile_image': False, 'following': True, 'follow_request_sent': False, 'notifications': True, 'translator_type': 'none'}, 'geo': None, 'coordinates': None, 'place': None, 'contributors': None, 'is_quote_status': False, 'retweet_count': 68, 'favorite_count': 732, 'favorited': False, 'retweeted': False, 'lang': 'hi'}, created_at=datetime.datetime(2021, 1, 14, 11, 50, 56), id=1349685426336854018, id_str='1349685426336854018', text='छोटे किसानों को कर्ज के बंधन में बंधक बनाकर रखने वाले किसान विरोधी दल और उनके समर्थक श्री @narendramodi सरकार के का… https://t.co/zon9ylxlT6', truncated=True, entities={'hashtags': [], 'symbols': [], 'user_mentions': [{'screen_name': 'narendramodi', 'name': 'Narendra Modi', 'id': 18839785, 'id_str': '18839785', 'indices': [90, 103]}], 'urls': [{'url': 'https://t.co/zon9ylxlT6', 'expanded_url': 'https://twitter.com/i/web/status/1349685426336854018', 'display_url': 'twitter.com/i/web/status/1…', 'indices': [117, 140]}]}, source='Twitter for Android', source_url='http://twitter.com/download/android', in_reply_to_status_id=None, in_reply_to_status_id_str=None, in_reply_to_user_id=None, in_reply_to_user_id_str=None, in_reply_to_screen_name=None, author=User(_api=<tweepy.api.API object at 0x0000029E5298D7F0>, _json={'id': 798135834, 'id_str': '798135834', 'name': 'Shrikant Sharma', 'screen_name': 'ptshrikant', 'location': 'Lucknow, India', 'description': 'ऊर्जा एवं अतिरिक्त ऊर्जा स्रोत मंत्री, उत्तर प्रदेश सरकार', 'url': 'https://t.co/K8QBmgiva3', 'entities': {'url': {'urls': [{'url': 'https://t.co/K8QBmgiva3', 'expanded_url': 'http://www.shrikantsharma.in', 'display_url': 'shrikantsharma.in', 'indices': [0, 23]}]}, 'description': {'urls': []}}, 'protected': False, 'followers_count': 1304686, 'friends_count': 534, 'listed_count': 282, 'created_at': 'Sun Sep 02 12:11:12 +0000 2012', 'favourites_count': 6480, 'utc_offset': None, 'time_zone': None, 'geo_enabled': True, 'verified': True, 'statuses_count': 43490, 'lang': None, 'contributors_enabled': False, 'is_translator': False, 'is_translation_enabled': False, 'profile_background_color': '000000', 'profile_background_image_url': 'http://abs.twimg.com/images/themes/theme1/bg.png', 'profile_background_image_url_https': 'https://abs.twimg.com/images/themes/theme1/bg.png', 'profile_background_tile': False, 'profile_image_url': 'http://pbs.twimg.com/profile_images/1346448320554618880/QdUTUyP7_normal.jpg', 'profile_image_url_https': 'https://pbs.twimg.com/profile_images/1346448320554618880/QdUTUyP7_normal.jpg', 'profile_banner_url': 'https://pbs.twimg.com/profile_banners/798135834/1609240077', 'profile_link_color': 'FA743E', 'profile_sidebar_border_color': '000000', 'profile_sidebar_fill_color': '000000', 'profile_text_color': '000000', 'profile_use_background_image': False, 'has_extended_profile': True, 'default_profile': False, 'default_profile_image': False, 'following': True, 'follow_request_sent': False, 'notifications': True, 'translator_type': 'none'}, id=798135834, id_str='798135834', name='Shrikant Sharma', screen_name='ptshrikant', location='Lucknow, India', description='ऊर्जा एवं अतिरिक्त ऊर्जा स्रोत मंत्री, उत्तर प्रदेश सरकार', url='https://t.co/K8QBmgiva3', entities={'url': {'urls': [{'url': 'https://t.co/K8QBmgiva3', 'expanded_url': 'http://www.shrikantsharma.in', 'display_url': 'shrikantsharma.in', 'indices': [0, 23]}]}, 'description': {'urls': []}}, protected=False, followers_count=1304686, friends_count=534, listed_count=282, created_at=datetime.datetime(2012, 9, 2, 12, 11, 12), favourites_count=6480, utc_offset=None, time_zone=None, geo_enabled=True, verified=True, statuses_count=43490, lang=None, contributors_enabled=False, is_translator=False, is_translation_enabled=False, profile_background_color='000000', profile_background_image_url='http://abs.twimg.com/images/themes/theme1/bg.png', profile_background_image_url_https='https://abs.twimg.com/images/themes/theme1/bg.png', profile_background_tile=False, profile_image_url='http://pbs.twimg.com/profile_images/1346448320554618880/QdUTUyP7_normal.jpg', profile_image_url_https='https://pbs.twimg.com/profile_images/1346448320554618880/QdUTUyP7_normal.jpg', profile_banner_url='https://pbs.twimg.com/profile_banners/798135834/1609240077', profile_link_color='FA743E', profile_sidebar_border_color='000000', profile_sidebar_fill_color='000000', profile_text_color='000000', profile_use_background_image=False, has_extended_profile=True, default_profile=False, default_profile_image=False, following=True, follow_request_sent=False, notifications=True, translator_type='none'), user=User(_api=<tweepy.api.API object at 0x0000029E5298D7F0>, _json={'id': 798135834, 'id_str': '798135834', 'name': 'Shrikant Sharma', 'screen_name': 'ptshrikant', 'location': 'Lucknow, India', 'description': 'ऊर्जा एवं अतिरिक्त ऊर्जा स्रोत मंत्री, उत्तर प्रदेश सरकार', 'url': 'https://t.co/K8QBmgiva3', 'entities': {'url': {'urls': [{'url': 'https://t.co/K8QBmgiva3', 'expanded_url': 'http://www.shrikantsharma.in', 'display_url': 'shrikantsharma.in', 'indices': [0, 23]}]}, 'description': {'urls': []}}, 'protected': False, 'followers_count': 1304686, 'friends_count': 534, 'listed_count': 282, 'created_at': 'Sun Sep 02 12:11:12 +0000 2012', 'favourites_count': 6480, 'utc_offset': None, 'time_zone': None, 'geo_enabled': True, 'verified': True, 'statuses_count': 43490, 'lang': None, 'contributors_enabled': False, 'is_translator': False, 'is_translation_enabled': False, 'profile_background_color': '000000', 'profile_background_image_url': 'http://abs.twimg.com/images/themes/theme1/bg.png', 'profile_background_image_url_https': 'https://abs.twimg.com/images/themes/theme1/bg.png', 'profile_background_tile': False, 'profile_image_url': 'http://pbs.twimg.com/profile_images/1346448320554618880/QdUTUyP7_normal.jpg', 'profile_image_url_https': 'https://pbs.twimg.com/profile_images/1346448320554618880/QdUTUyP7_normal.jpg', 'profile_banner_url': 'https://pbs.twimg.com/profile_banners/798135834/1609240077', 'profile_link_color': 'FA743E', 'profile_sidebar_border_color': '000000', 'profile_sidebar_fill_color': '000000', 'profile_text_color': '000000', 'profile_use_background_image': False, 'has_extended_profile': True, 'default_profile': False, 'default_profile_image': False, 'following': True, 'follow_request_sent': False, 'notifications': True, 'translator_type': 'none'}, id=798135834, id_str='798135834', name='Shrikant Sharma', screen_name='ptshrikant', location='Lucknow, India', description='ऊर्जा एवं अतिरिक्त ऊर्जा स्रोत मंत्री, उत्तर प्रदेश सरकार', url='https://t.co/K8QBmgiva3', entities={'url': {'urls': [{'url': 'https://t.co/K8QBmgiva3', 'expanded_url': 'http://www.shrikantsharma.in', 'display_url': 'shrikantsharma.in', 'indices': [0, 23]}]}, 'description': {'urls': []}}, protected=False, followers_count=1304686, friends_count=534, listed_count=282, created_at=datetime.datetime(2012, 9, 2, 12, 11, 12), favourites_count=6480, utc_offset=None, time_zone=None, geo_enabled=True, verified=True, statuses_count=43490, lang=None, contributors_enabled=False, is_translator=False, is_translation_enabled=False, profile_background_color='000000', profile_background_image_url='http://abs.twimg.com/images/themes/theme1/bg.png', profile_background_image_url_https='https://abs.twimg.com/images/themes/theme1/bg.png', profile_background_tile=False, profile_image_url='http://pbs.twimg.com/profile_images/1346448320554618880/QdUTUyP7_normal.jpg', profile_image_url_https='https://pbs.twimg.com/profile_images/1346448320554618880/QdUTUyP7_normal.jpg', profile_banner_url='https://pbs.twimg.com/profile_banners/798135834/1609240077', profile_link_color='FA743E', profile_sidebar_border_color='000000', profile_sidebar_fill_color='000000', profile_text_color='000000', profile_use_background_image=False, has_extended_profile=True, default_profile=False, default_profile_image=False, following=True, follow_request_sent=False, notifications=True, translator_type='none'), geo=None, coordinates=None, place=None, contributors=None, is_quote_status=False, retweet_count=68, favorite_count=732, favorited=False, retweeted=False, lang='hi')"
      ]
     },
     "execution_count": 90,
     "metadata": {},
     "output_type": "execute_result"
    }
   ],
   "source": [
    "api.get_status(api.user_timeline('ptshrikant',include_rts=False)[0].id)"
   ]
  },
  {
   "cell_type": "code",
   "execution_count": 93,
   "metadata": {},
   "outputs": [
    {
     "data": {
      "text/plain": [
       "'ptshrikant'"
      ]
     },
     "execution_count": 93,
     "metadata": {},
     "output_type": "execute_result"
    }
   ],
   "source": [
    "api.get_status(1349736885011181572).in_reply_to_screen_name"
   ]
  },
  {
   "cell_type": "code",
   "execution_count": 94,
   "metadata": {},
   "outputs": [
    {
     "data": {
      "text/plain": [
       "'https://twitter.com/i/web/status/1350310405386641408'"
      ]
     },
     "execution_count": 94,
     "metadata": {},
     "output_type": "execute_result"
    }
   ],
   "source": [
    "api.user_timeline('ptshrikant',include_rts=False)[0].entities['urls'][0]['expanded_url']"
   ]
  },
  {
   "cell_type": "code",
   "execution_count": 91,
   "metadata": {
    "scrolled": true
   },
   "outputs": [
    {
     "data": {
      "text/plain": [
       "[1326706106123640834,\n",
       " 1144868289266372614,\n",
       " 1288510541040738305,\n",
       " 1273622353436487680,\n",
       " 1070693024907313153,\n",
       " 70653093,\n",
       " 1325811997208764417,\n",
       " 1044944969411096581,\n",
       " 1160628616637505538,\n",
       " 803962936213602304,\n",
       " 733128812,\n",
       " 1211538889380261888,\n",
       " 1168833765876985856,\n",
       " 1257900163248472064,\n",
       " 1189934324499570689,\n",
       " 943314072639913990,\n",
       " 45495217,\n",
       " 948422420372664320,\n",
       " 101759576,\n",
       " 945951079123914752,\n",
       " 1182784346047959040,\n",
       " 1091873044623122432,\n",
       " 1092033923859677184,\n",
       " 996298600471707648,\n",
       " 1198580779988598785,\n",
       " 1088303303912538119,\n",
       " 1098923905702490112,\n",
       " 1293515707796389888,\n",
       " 420059704,\n",
       " 902791544486297600,\n",
       " 1013274126071390209,\n",
       " 1080357726,\n",
       " 707609086116777984,\n",
       " 1222935003245563904,\n",
       " 946318396689285121,\n",
       " 1253994905866604545,\n",
       " 1177915371342315523,\n",
       " 1219800040362913792,\n",
       " 967964576,\n",
       " 1318577572523880448,\n",
       " 1255830627036696576,\n",
       " 732567917053771776,\n",
       " 844866372278530048,\n",
       " 4023302475,\n",
       " 349615324,\n",
       " 1214070428441825281,\n",
       " 1349339527228260353,\n",
       " 704692626641985536,\n",
       " 1284431376544980992,\n",
       " 1321373477484457985,\n",
       " 1300457179602800640,\n",
       " 1248083977132371969,\n",
       " 845250402413150208,\n",
       " 1208781028455636992,\n",
       " 1086519223487160322,\n",
       " 1117702103118389249,\n",
       " 2377400444,\n",
       " 848026030229114883,\n",
       " 900778272035708929,\n",
       " 964207571845435392,\n",
       " 1263774704566927360,\n",
       " 394830481,\n",
       " 939322310128893952,\n",
       " 1178289247637295106,\n",
       " 81801381]"
      ]
     },
     "execution_count": 91,
     "metadata": {},
     "output_type": "execute_result"
    }
   ],
   "source": [
    "api.retweeters(api.user_timeline('ptshrikant',include_rts=False)[0].id)"
   ]
  },
  {
   "cell_type": "code",
   "execution_count": 107,
   "metadata": {},
   "outputs": [
    {
     "name": "stdout",
     "output_type": "stream",
     "text": [
      "1 - @ptshrikant @narendramodi @BJP4India @BJP4UP Sir I'm 66yr old senior citizen.Pls help @OmaxeLimited has since last 7 years not refunded Booking Amount for a homeproject cancelled by them!My life's savings are gone! Fighting court battle since years, writing multiple letters to its employees,CEOs- No one is helping #Lucknow\n",
      "2 - @ptshrikant @narendramodi @BJP4India @BJP4UP जय श्री राम\n",
      "3 - @ptshrikant @narendramodi @BJP4India @BJP4UP @@UPGovt केउर्जा विभाग ने किसानो से वर्षो पूर्व ट्यूबवेल कनेक्शन सामान्य योजना पर पैसा लेकर निर्गत पर रोक लगा दी और अभी भी किसानो को धोखा देने हेतु अन्य योजनाओं पर भ्रमित करने का भरसक प्रयास किया जा रहा है एक बार धोखा खाये किसानोंका अब विश्वास उठ गया है @ptshrikant @narendramodi\n",
      "4 - @ptshrikant @narendramodi @BJP4India @BJP4UP कभी फावड़ा लेकर खेत गये हैं आप।\n",
      "5 - @ptshrikant @narendramodi @BJP4India @BJP4UP सर हमारी समस्याओं का कंप्लेन हुए 2 दिन हो चुके हैं लेकिन उसके बारे में कोई भी जानकारी नहीं मिल रही है समस्या को हल करने में कितने दिन का समय और लगेगा...\n",
      "6 - @ptshrikant @narendramodi @BJP4India @BJP4UP Very true\n",
      "7 - @ptshrikant @narendramodi @BJP4India @BJP4UP मथुरा जिले के #मौजा_राधाकुंड में #चकबंदी होने के 24 वर्ष बाद भी नहीं हुए चक परिवर्तन।\n",
      "किसानों ने जोत  लिए चकरोड एवं नालियां\n",
      "8 - @ptshrikant @narendramodi @BJP4India @BJP4UP I support  Namo Namo\n",
      "9 - @ptshrikant @narendramodi @BJP4India @BJP4UP मंत्री जी मेरी शिकायत का क्या हुआ?\n",
      "10 - @ptshrikant @narendramodi @BJP4India @BJP4UP माननीय ऊर्जा मंत्री जी \n",
      "UPPCL द्वारा AE CIVIL की विज्ञप्ति में अनिवार्य आहर्ता में संभवतः कुछ त्रुटियां है  , कृपया विज्ञप्ति की आहर्ता वाले कालम को पुनः जांच कर उसमें सुधार करवाए।\n",
      "11 - @ptshrikant @narendramodi @BJP4India @BJP4UP महोदय! कागज़ों में और जमीनी हकीकत में जमीन आसमान का अंतर है। कागज़ों में कुछ और चलता है और वास्तविकता में कुछ और होता है। आज भी गरीब किसान संघर्ष का जीवन जी रहा है। जितनी लागत होती है उससे कम की पैदावार\n",
      "12 - @ptshrikant @narendramodi @BJP4India @BJP4UP आप अपने विभाग की कमियों को तो दूर करने की कृपा करें।।मेरी शिकायत संख्या MV0612200210,MV2212200625,MV0701210607  05 दिस 20 से लंबित हैं।कोई कार्यवाही नहीं। हमेशा यही बोला जाता है संज्ञान में है। पर भ्रष्टाचार इतना बढ़ गया है कि समस्या का निस्तारण ही नहीं किया जा रहा।\n",
      "13 - @ptshrikant @narendramodi @BJP4India @BJP4UP @DoJ_India @indSupremeCourt अदालत को सांत्वना देने के बजाय, CAA/ कृषि बिल पर झूठी अफ़वाह उड़ाकर भ्रम फैलाने, प्रदर्शन के नाम पर हाईवे/ रास्ते रोक कर अराजकता फैलाने वालों, व उन्हें उकसाने वाले @INCIndia @AamAadmiParty टिकैत जैसे नेताओं पर सख्त कानूनी कार्रवाई सुनिश्चित करनी चाहिए. https://t.co/7Cuor3SuAk\n",
      "14 - @ptshrikant @narendramodi @BJP4India @BJP4UP कृपया विद्युत् सुरक्षा निदेशालय का कैडर रिव्यू कर निदेशालय का विस्तार करवाने की कृपा करे, वर्षों से लंबित है, प्रदेश में बिजली कंपनियो और उपभोक्ताओं मे तो वृद्धि हुई है पर ये विभाग वहीं है, मुरादाबाद office में 4 जिले है मात्र 2 स्टाफ है ऐसी स्थिति पूरे प्रदेश में है @ptshrikant\n",
      "15 - @ptshrikant @narendramodi @BJP4India @BJP4UP आदरणीय मंत्री जी  किसान हितो को ध्यान में रखते हुए निजी नलकूपों के लिऐ सामान्य योजना के तहत बिजली कनेक्शनों पर लगी रोक हटाने के आदेश करने की कृपा करें। दो साल पहले स्टीमेट जमा किया है और अभी तक बिजली कनेक्शन नहीं मिला है।\n",
      "16 - @ptshrikant @narendramodi @BJP4India @BJP4UP सर Tg2 608 कि परीक्षा कब होगी कृपया जानकारी दे\n",
      "17 - @ptshrikant @narendramodi @BJP4India @BJP4UP नमस्ते सर \n",
      "tg_२ का एग्जाम होगा या नहीं सर\n",
      "18 - @ptshrikant @narendramodi @BJP4India @BJP4UP 🌹🙏🇮🇳\n",
      "सत्मेव जयते ।\n",
      "देश,देशवासी जाग चुके हैं ।\n",
      "इनके दोनो पैर कब्र मे जा चुके हैं बस सुपर्दे खाक बाकी है ।\n",
      "19 - @ptshrikant @narendramodi @BJP4India @BJP4UP https://t.co/6vaKibv0O3\n",
      "20 - @ptshrikant @narendramodi @BJP4India @BJP4UP 2nd Aug-20 @puvvnlghazipur AC given Commitment for Completing the work within 15 Days but after 6 Month still his 15days not completed which is the best example of Dept. Corruption Level which is totally beyond control of @ptshrikant @EMofficeUP and incapable @UppclChairman ?? https://t.co/iAexyGseir\n",
      "21 - @ptshrikant @narendramodi @BJP4India @BJP4UP jai shri ram\n",
      "22 - @ptshrikant @narendramodi @BJP4India @BJP4UP माननीय मंत्री जी कभी आप खेती किया है?यदि किए होते तो आप को पता होता, फिर आप भी विरोध ही करते ।\n",
      "23 - @ptshrikant @narendramodi @BJP4India @BJP4UP https://t.co/buYfZfZwwh\n",
      "24 - @ptshrikant @narendramodi @BJP4India @BJP4UP मंत्री जी बिजली विभाग भी तो किसानों को लूट रहा है 1 लाख लेकर किसानों को खेती के लिए ट्यूबल कनेक्शन दे रहे हैं, जबकि सामान्य कनेक्शन योजना दो साल से बन्द है, 29/01/18से अप्लाई करके लाईन के लिए इस्टीमेट जमा करके अभी तक इंतजार कर रहे हैं, किसान कैसे विश्वास करे आप लोगो पर।\n",
      "25 - @ptshrikant @narendramodi @BJP4India @BJP4UP बिल्कुल पेट खराब होने  का भय ब्यापत है\n",
      "26 - @ptshrikant @narendramodi @BJP4India @BJP4UP जय हो\n",
      "27 - @ptshrikant @narendramodi @BJP4India @BJP4UP महोदय कृपया ये भी बताने का कष्ट करें कि मंडी से बाहर किसानों की फसल को खरीदेगा कौन और उसकी कीमत कौन और कैसे तय करेगा वास्तविकता ये है कि आज MSP होने के बावजूद किसानों को 10 रू में धान बेचने पड़े हैं और क्या उ0 प्र0 का किसान अपनी फसल दिल्ली बेचने जाएगा?\n",
      "28 - @ptshrikant @narendramodi @BJP4India @BJP4UP माननीय मंत्री जी आप सच कह रहे हैं बीच में दलाली करने वाले बिचौलियों की कमाई बंद हो गई है जिस वजह से किसानों के कंधे में रखकर अपनी राजनीति कर रहे हैं देश का किसान समझदार हैं\n",
      "29 - @ptshrikant @narendramodi @BJP4India @BJP4UP चीन को टनल का ठेका देने से क्या लाभ मिलेगा यह बताओ ?\n",
      "30 - @ptshrikant @narendramodi @BJP4India @BJP4UP Congress is route cause of all problem.. We want BJP atleast next 20 years..\n",
      "31 - @ptshrikant @narendramodi @BJP4India @BJP4UP माननीय ऊर्जा मंत्री जी कृपया अपने विभाग के सच को सार्वजनिक करे जहाँ किसानो \"से 2017-2018 के ट्यूबवेल कनेक्शन सामान्य योजना के आवेदनों पर पैसा लेकर निर्गत पर रोक लगा रखी है किसानोको अब अन्य योजनाओं पर कैसे विश्वास हो किसानो को केवल भ्रमित किया जारहा है @@narendramodi  @ptshrikant\n",
      "32 - @ptshrikant @narendramodi @BJP4India @BJP4UP माननीय मंत्री जी नमस्कार\n",
      "33 - @ptshrikant @narendramodi @BJP4India @BJP4UP महोदय इन कानूनों से छोटी जोत वाला किसान और अधिक बर्बाद हो जाएगा। उसे तो आज भी MSP का कोई लाभ नहीं मिल रहा है जब व्यवस्था सरकार के अधीन है।जब व्यवस्था पूंजीपतियों के हाथ में चली जाएगी तब सबसे ज्यादा शोषण छोटे किसानों का ही होने वाला है।\n",
      "34 - @ptshrikant @narendramodi @BJP4India @BJP4UP 👌🙏👀\n",
      "35 - @ptshrikant @narendramodi @BJP4India @BJP4UP जमीन किसान की ,फैसला भी उनका होगा आप कौन खामखॉ????\n",
      "36 - @ptshrikant @narendramodi @BJP4India @BJP4UP सर आप किसान गरीब के बिलो पर भी सरचाज योजना लागू करवाने की कृपा करो सर आप की अति महान कृपा होगी\n",
      "37 - @ptshrikant @narendramodi @BJP4India @BJP4UP भाजपा जिन्दाबाद\n"
     ]
    }
   ],
   "source": [
    "user_name = \"@ptshrikant\"\n",
    "replies = tweepy.Cursor(api.search, q='to:{}'.format(user_name),\n",
    "                                since_id=1350044491252604929, tweet_mode='extended').items()\n",
    "count = 0\n",
    "while True:\n",
    "    try:\n",
    "        reply = replies.next()\n",
    "        if not hasattr(reply, 'in_reply_to_status_id_str'):\n",
    "            continue\n",
    "        if reply.in_reply_to_status_id == 1350044491252604929:\n",
    "            count = count+1\n",
    "            print(\"{} - {}\".format(count,reply.full_text))\n",
    "    except StopIteration:\n",
    "        break\n"
   ]
  },
  {
   "cell_type": "code",
   "execution_count": null,
   "metadata": {},
   "outputs": [],
   "source": []
  }
 ],
 "metadata": {
  "kernelspec": {
   "display_name": "Python 3",
   "language": "python",
   "name": "python3"
  },
  "language_info": {
   "codemirror_mode": {
    "name": "ipython",
    "version": 3
   },
   "file_extension": ".py",
   "mimetype": "text/x-python",
   "name": "python",
   "nbconvert_exporter": "python",
   "pygments_lexer": "ipython3",
   "version": "3.8.6"
  }
 },
 "nbformat": 4,
 "nbformat_minor": 4
}
