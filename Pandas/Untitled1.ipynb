{
 "cells": [
  {
   "cell_type": "code",
   "execution_count": 4,
   "metadata": {},
   "outputs": [],
   "source": [
    "\n",
    "# premium_api_enabled = True/False\n",
    "premium_api_enabled = False\n",
    "# premium_type = '30day'/'fullarchive'\n",
    "premium_type = '30day'"
   ]
  },
  {
   "cell_type": "code",
   "execution_count": 2,
   "metadata": {},
   "outputs": [
    {
     "name": "stdout",
     "output_type": "stream",
     "text": [
      "Collecting pymongo\n",
      "  Downloading pymongo-3.10.1-cp37-cp37m-win32.whl (348 kB)\n",
      "Installing collected packages: pymongo\n",
      "Successfully installed pymongo-3.10.1\n",
      "Note: you may need to restart the kernel to use updated packages.\n"
     ]
    }
   ],
   "source": [
    "pip install pymongo"
   ]
  },
  {
   "cell_type": "code",
   "execution_count": 1,
   "metadata": {},
   "outputs": [],
   "source": [
    "import pymongo\n",
    "import base64\n",
    "import requests\n",
    "import urllib.parse\n",
    "from IPython.core.debugger import set_trace"
   ]
  },
  {
   "cell_type": "code",
   "execution_count": 2,
   "metadata": {},
   "outputs": [],
   "source": [
    "base_url = 'https://api.twitter.com/'\n",
    "auth_url = '{}oauth2/token'.format(base_url)\n",
    "client_key = 'h1FMGukUb2opdWyp6e5h4wXsJ'\n",
    "client_secret = 'Bd3604rdoBGdsVdBL6fubOpyYL44L0uJNpBp5D63IOe5k4h6Rg'"
   ]
  },
  {
   "cell_type": "code",
   "execution_count": 5,
   "metadata": {},
   "outputs": [
    {
     "name": "stdout",
     "output_type": "stream",
     "text": [
      "https://api.twitter.com/1.1/search/tweets.json\n"
     ]
    }
   ],
   "source": [
    "# https://api.twitter.com/1.1/tweets/search/fullarchive/:label.json\n",
    "\n",
    "if premium_api_enabled:\n",
    "    search_url = '{}1.1/tweets/search/{}/test01.json'.format(base_url, premium_type)\n",
    "else:\n",
    "    search_url = '{}1.1/search/tweets.json'.format(base_url)\n",
    "print(search_url)"
   ]
  },
  {
   "cell_type": "code",
   "execution_count": 6,
   "metadata": {},
   "outputs": [],
   "source": [
    "key_secret = '{}:{}'.format(client_key, client_secret).encode('ascii')\n",
    "b64_encoded_key = base64.b64encode(key_secret)\n",
    "b64_encoded_key = b64_encoded_key.decode('ascii')\n",
    "\n",
    "auth_headers = {\n",
    "    'Authorization': 'Basic {}'.format(b64_encoded_key),\n",
    "    'Content-Type': 'application/x-www-form-urlencoded;charset=UTF-8'\n",
    "}\n",
    "auth_data = {\n",
    "    'grant_type': 'client_credentials'\n",
    "}\n",
    "auth_resp = requests.post(auth_url, headers=auth_headers, data=auth_data)\n",
    "access_token = auth_resp.json()['access_token']\n",
    "\n",
    "auth_headers = {\n",
    "    'Authorization': 'Bearer {}'.format(access_token)    \n",
    "}"
   ]
  },
  {
   "cell_type": "code",
   "execution_count": 7,
   "metadata": {},
   "outputs": [],
   "source": [
    "dbUrl = \"mongodb://localhost:27017/\"\n",
    "dbName = \"test\"\n",
    "collectionName = \"testing\""
   ]
  },
  {
   "cell_type": "code",
   "execution_count": 8,
   "metadata": {},
   "outputs": [],
   "source": [
    "dbClient = pymongo.MongoClient(dbUrl)\n",
    "db = dbClient[dbName]\n",
    "collection = db[collectionName]"
   ]
  },
  {
   "cell_type": "code",
   "execution_count": 9,
   "metadata": {},
   "outputs": [
    {
     "name": "stdout",
     "output_type": "stream",
     "text": [
      "{'q': 'uppcl', 'result_type': 'recent', 'locale': 'en', 'count': 100}\n"
     ]
    }
   ],
   "source": [
    "if premium_api_enabled:\n",
    "    # premium API search_params\n",
    "    search_params = {\n",
    "        'query': 'covid19',\n",
    "    #     'tag': '',\n",
    "    #     'fromDate': 201512220000\n",
    "    #     'toDate': 201712220000\n",
    "    }\n",
    "else:\n",
    "    # standard API search_params\n",
    "    search_params = {\n",
    "        'q': 'uppcl',\n",
    "        'result_type': 'recent', # mixed/recent/popular\n",
    "        'locale': 'en',\n",
    "        'count': 100\n",
    "    }\n",
    "print(search_params)"
   ]
  },
  {
   "cell_type": "code",
   "execution_count": 10,
   "metadata": {},
   "outputs": [],
   "source": [
    "def fetchTweets():\n",
    "    search_resp = requests.get(search_url, headers=auth_headers, params=search_params)\n",
    "    return search_resp"
   ]
  },
  {
   "cell_type": "code",
   "execution_count": 11,
   "metadata": {},
   "outputs": [],
   "source": [
    "def insertTweetsIntoDb(search_resp):\n",
    "    count = 0\n",
    "    if premium_api_enabled:\n",
    "        tweet_data = search_resp.json()['results']\n",
    "    else:\n",
    "        tweet_data = search_resp.json()['statuses']\n",
    "    for x in tweet_data:\n",
    "        try:\n",
    "            x['_id'] = x['id']\n",
    "            collection.insert_one(x)\n",
    "            count = count + 1\n",
    "        except pymongo.errors.DuplicateKeyError:\n",
    "            # skip tweet because it already exists in new collection\n",
    "            continue\n",
    "    return count"
   ]
  },
  {
   "cell_type": "code",
   "execution_count": 12,
   "metadata": {},
   "outputs": [
    {
     "name": "stdout",
     "output_type": "stream",
     "text": [
      "100 tweets inserted.\n"
     ]
    }
   ],
   "source": [
    "\n",
    "tweets_inserted = 0\n",
    "for i in range(1):\n",
    "    search_resp = fetchTweets()\n",
    "    tweets_inserted = tweets_inserted + insertTweetsIntoDb(search_resp)\n",
    "print('{} tweets inserted.'.format(tweets_inserted))"
   ]
  },
  {
   "cell_type": "code",
   "execution_count": null,
   "metadata": {},
   "outputs": [],
   "source": []
  }
 ],
 "metadata": {
  "kernelspec": {
   "display_name": "Python 3",
   "language": "python",
   "name": "python3"
  },
  "language_info": {
   "codemirror_mode": {
    "name": "ipython",
    "version": 3
   },
   "file_extension": ".py",
   "mimetype": "text/x-python",
   "name": "python",
   "nbconvert_exporter": "python",
   "pygments_lexer": "ipython3",
   "version": "3.8.6"
  }
 },
 "nbformat": 4,
 "nbformat_minor": 4
}
