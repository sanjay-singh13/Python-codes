{
 "cells": [
  {
   "cell_type": "code",
   "execution_count": 1,
   "metadata": {},
   "outputs": [
    {
     "data": {
      "text/plain": [
       "1"
      ]
     },
     "execution_count": 1,
     "metadata": {},
     "output_type": "execute_result"
    }
   ],
   "source": [
    "1**2"
   ]
  },
  {
   "cell_type": "code",
   "execution_count": 30,
   "metadata": {},
   "outputs": [
    {
     "name": "stdout",
     "output_type": "stream",
     "text": [
      "     Name     Class    Phone\n",
      "0   Vijay       2nd  9983772\n",
      "1  Sanjay  graguate  9983773\n",
      "2    Romy      12th  9983774\n",
      "3  Durjan       2nd  9983775\n",
      "4    Rani       3rd  9983776\n",
      "5  Sunita      10th  9983777\n"
     ]
    }
   ],
   "source": [
    "import pandas as pd\n",
    "import numpy as np\n",
    "test = pd.read_csv(\"test.csv\")\n",
    " \n",
    "print(test)"
   ]
  },
  {
   "cell_type": "code",
   "execution_count": 35,
   "metadata": {},
   "outputs": [
    {
     "data": {
      "text/html": [
       "<div>\n",
       "<style scoped>\n",
       "    .dataframe tbody tr th:only-of-type {\n",
       "        vertical-align: middle;\n",
       "    }\n",
       "\n",
       "    .dataframe tbody tr th {\n",
       "        vertical-align: top;\n",
       "    }\n",
       "\n",
       "    .dataframe thead th {\n",
       "        text-align: right;\n",
       "    }\n",
       "</style>\n",
       "<table border=\"1\" class=\"dataframe\">\n",
       "  <thead>\n",
       "    <tr style=\"text-align: right;\">\n",
       "      <th></th>\n",
       "      <th>Name</th>\n",
       "      <th>Class</th>\n",
       "      <th>Phone</th>\n",
       "    </tr>\n",
       "  </thead>\n",
       "  <tbody>\n",
       "    <tr>\n",
       "      <th>0</th>\n",
       "      <td>Vijay</td>\n",
       "      <td>2nd</td>\n",
       "      <td>9983772</td>\n",
       "    </tr>\n",
       "    <tr>\n",
       "      <th>1</th>\n",
       "      <td>Sanjay</td>\n",
       "      <td>graguate</td>\n",
       "      <td>9983773</td>\n",
       "    </tr>\n",
       "    <tr>\n",
       "      <th>2</th>\n",
       "      <td>Romy</td>\n",
       "      <td>12th</td>\n",
       "      <td>9983774</td>\n",
       "    </tr>\n",
       "  </tbody>\n",
       "</table>\n",
       "</div>"
      ],
      "text/plain": [
       "     Name     Class    Phone\n",
       "0   Vijay       2nd  9983772\n",
       "1  Sanjay  graguate  9983773\n",
       "2    Romy      12th  9983774"
      ]
     },
     "execution_count": 35,
     "metadata": {},
     "output_type": "execute_result"
    }
   ],
   "source": [
    "test.head(3)"
   ]
  },
  {
   "cell_type": "code",
   "execution_count": 36,
   "metadata": {},
   "outputs": [
    {
     "data": {
      "text/plain": [
       "0                                   0\n",
       "1                ramyagya21@gmail.com\n",
       "2          mohitcyborg@rediffmail.com\n",
       "3          dorlal9675257025@gmail.com\n",
       "4                rathaur.44@gmail.com\n",
       "5             vipinsinghskd@gmail.com\n",
       "6                   rambrij@gmail.com\n",
       "7               manishdvvnl@gmail.com\n",
       "8              rsaxena20082@gmail.com\n",
       "9                  vishu.ee@gmail.com\n",
       "10         swatantrayadav28@gmail.com\n",
       "11                 anilje10@gmail.com\n",
       "12        rajeshpaljekarhal@gmail.com\n",
       "13               anilpsiten@gmail.com\n",
       "14                  sdoskb1@gmail.com\n",
       "15        praveenbaghel1231@gmail.com\n",
       "16           tulsiyadav9083@gmail.com\n",
       "17          pramodsingh94127@gmal.com\n",
       "18                   sdomkp@gmail.com\n",
       "19                   eedskb@gmail.com\n",
       "20                  jayvm24@gmail.com\n",
       "21         viveksinghabcd41@gmail.com\n",
       "22         viveksinghabcd41@gmail.com\n",
       "23                jejatpura@gmail.com\n",
       "24                jejatpura@gmail.com\n",
       "25                tundlasdo@gmail.com\n",
       "26               rajawalije@gmail.com\n",
       "27               rajawalije@gmail.com\n",
       "28            hazaratpur666@gmail.com\n",
       "29            hazaratpur666@gmail.com\n",
       "                    ...              \n",
       "215               sk0371533@gmail.com\n",
       "216                                 0\n",
       "217                 nk17612@gmail.com\n",
       "218                                 0\n",
       "219          ajaykumarmnp19@gmail.com\n",
       "220                                 0\n",
       "221    pradeepkumar.mpi1978@gmail.com\n",
       "222              sdopinahat@gmail.com\n",
       "223                eeeddbah@gmail.com\n",
       "224     rajeshsingh.hathras@gmail.com\n",
       "225           vipinaditya73@gmail.com\n",
       "226                                 0\n",
       "227           ramesh6005.rc@gmail.com\n",
       "228       munshilalchauhan6@gmail.com\n",
       "229                                 0\n",
       "230           hariomtdl1971@gmail.com\n",
       "231                                 0\n",
       "232             sdoetmadpur@gmail.com\n",
       "233             jekhandauli@gmail.com\n",
       "234                                 0\n",
       "235               sarveneer@gmail.com\n",
       "236                                 0\n",
       "237       nodalmudichauraha@gmail.com\n",
       "238                                 0\n",
       "239          rupendra586.rs@gmail.com\n",
       "240                                 0\n",
       "241             sdokhandoli@gmail.com\n",
       "242               eeeddetma@gmail.com\n",
       "243         seedc2fatehabad@gmail.com\n",
       "244             gmagradvvnl@gmail.com\n",
       "Name: email_address, Length: 245, dtype: object"
      ]
     },
     "execution_count": 36,
     "metadata": {},
     "output_type": "execute_result"
    }
   ],
   "source": [
    "import pandas as pd\n",
    "import numpy as np\n",
    "test = pd.read_excel('Agra1.xlsx', sheet_name='EMP-AGRA ZONE-1')\n",
    "test['email_address']=test['email_address'].fillna(0)\n",
    "test[test.email_address.str.contains('.com',case=False)]"
   ]
  },
  {
   "cell_type": "code",
   "execution_count": null,
   "metadata": {},
   "outputs": [],
   "source": []
  }
 ],
 "metadata": {
  "kernelspec": {
   "display_name": "Python 3",
   "language": "python",
   "name": "python3"
  },
  "language_info": {
   "codemirror_mode": {
    "name": "ipython",
    "version": 3
   },
   "file_extension": ".py",
   "mimetype": "text/x-python",
   "name": "python",
   "nbconvert_exporter": "python",
   "pygments_lexer": "ipython3",
   "version": "3.8.6"
  }
 },
 "nbformat": 4,
 "nbformat_minor": 4
}
